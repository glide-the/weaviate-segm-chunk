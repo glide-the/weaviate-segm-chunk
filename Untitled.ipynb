{
 "cells": [
  {
   "cell_type": "code",
   "execution_count": 1,
   "id": "081195d9-a174-421b-be42-6dd308f3325e",
   "metadata": {},
   "outputs": [],
   "source": [
    "import pandas as pd\n",
    "import json\n",
    "import re\n",
    "\n",
    "# 读取 Excel 文件并生成 JSONL 文件\n",
    "def excel_to_jsonl(input_csv, output_jsonl):\n",
    "    # 读取Excel文件，指定 sheet_name\n",
    "    df = pd.read_csv(input_csv)\n",
    "    \n",
    "    # 输出 JSONL 文件\n",
    "    with open(output_jsonl, 'w', encoding='utf-8') as f:\n",
    "        for idx, row in df.iterrows():\n",
    "            if isinstance(row.get(\"key\"), str):\n",
    "                key_split = re.split(r'[\\s,，]+', row[\"key\"]) \n",
    "                key_clean = [k.strip() for k in key_split if k.strip()]\n",
    "            else:\n",
    "                key_clean = []\n",
    "\n",
    "            # 清洗数据，避免 NaN 或非 JSON 兼容值\n",
    "            json_obj = {\n",
    "                \"id\": str(row.get(\"question_id\", idx)).strip(),\n",
    "                \"question\": str(row.get(\"question\", \"\")).strip(),\n",
    "                \"answer\": str(row.get(\"answer\", \"\")).strip(),\n",
    "                \"key\": key_clean,\n",
    "                \"type\": str(row.get(\"type\", \"\")).strip(),\n",
    "                \"date\": str(row.get(\"date\", \"\")).strip() if pd.notna(row.get(\"date\")) else \"\",\n",
    "                \"time\": str(row.get(\"time\", \"\")).strip() if pd.notna(row.get(\"time\")) else \"\",\n",
    "                \"table\": str(row.get(\"table\", \"\")).strip() if pd.notna(row.get(\"table\")) else \"\",\n",
    "                \"row\": str(row.get(\"row\", \"\")).strip() if pd.notna(row.get(\"row\")) else \"\",\n",
    "                \"remarks\": str(row.get(\"备注\", \"\")).strip(),\n",
    "                \"author\": str(row.get(\"出题人\", \"\")).strip()\n",
    "            }\n",
    "            # 确保每行 JSON 有效\n",
    "            f.write(json.dumps(json_obj, ensure_ascii=False) + \"\\n\")\n",
    "\n"
   ]
  },
  {
   "cell_type": "code",
   "execution_count": 2,
   "id": "85a7f323-fe46-4e08-981e-ffe34846eec4",
   "metadata": {},
   "outputs": [],
   "source": [
    "# 读取 Excel 文件并生成 JSONL 文件，仅保留 id 和 question\n",
    "def excel_to_jsonl_simple(input_excel, output_jsonl):\n",
    "    # 读取Excel文件，指定 sheet_name\n",
    "    df = pd.read_csv(input_csv)\n",
    "    \n",
    "    # 输出 JSONL 文件\n",
    "    with open(output_jsonl, 'w', encoding='utf-8') as f:\n",
    "        for idx, row in df.iterrows():\n",
    "            json_obj = {\n",
    "                \"id\": row.get(\"question_id\", idx),\n",
    "                \"question\": row.get(\"question\", \"\"),\n",
    "                \"answer\":\"\"\n",
    "            }\n",
    "            f.write(json.dumps(json_obj, ensure_ascii=False) + \"\\n\")\n",
    " \n"
   ]
  },
  {
   "cell_type": "code",
   "execution_count": 4,
   "id": "96c8e317-e6cc-49e3-899f-94b73bb9f01a",
   "metadata": {
    "scrolled": true
   },
   "outputs": [
    {
     "name": "stdout",
     "output_type": "stream",
     "text": [
      "转换完成，输出文件：answer.jsonl\n",
      "转换完成，输出文件：question.jsonl\n"
     ]
    }
   ],
   "source": [
    "\n",
    "input_csv = \"C:\\\\Users\\\\Administrator\\\\Desktop\\\\SY730~732日志内容20241202-题目.csv\"  # 输入的Excel文件路径\n",
    "output_jsonl1 = \"answer.jsonl\"  # 输出的JSONL文件路径 \n",
    "output_jsonl2 = \"question.jsonl\"  # 输出的JSONL文件路径 \n",
    "excel_to_jsonl(input_csv, output_jsonl1)\n",
    "excel_to_jsonl_simple(input_csv, output_jsonl2)\n",
    "print(f\"转换完成，输出文件：{output_jsonl1}\")\n",
    "print(f\"转换完成，输出文件：{output_jsonl2}\")\n"
   ]
  },
  {
   "cell_type": "code",
   "execution_count": null,
   "id": "27a966b9-118f-4910-acfc-ad0c75a40839",
   "metadata": {},
   "outputs": [],
   "source": []
  }
 ],
 "metadata": {
  "kernelspec": {
   "display_name": "Python 3 (ipykernel)",
   "language": "python",
   "name": "python3"
  },
  "language_info": {
   "codemirror_mode": {
    "name": "ipython",
    "version": 3
   },
   "file_extension": ".py",
   "mimetype": "text/x-python",
   "name": "python",
   "nbconvert_exporter": "python",
   "pygments_lexer": "ipython3",
   "version": "3.10.15"
  }
 },
 "nbformat": 4,
 "nbformat_minor": 5
}
