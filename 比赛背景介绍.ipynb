{
 "cells": [
  {
   "cell_type": "markdown",
   "id": "b99ff55c-c20b-46ef-b6b7-878208bf6c5e",
   "metadata": {},
   "source": [
    "### 个人介绍\n",
    "\n",
    "### 赛事数据背景\n",
    "\n",
    "本次赛题主要考察的数据范围：近3年计算机顶会顶刊和arXiv文献PDF全文，大概2万篇左右，同时给出PDF原文\n",
    "\n",
    "进一步的，可以通过对数据不同目标任务的拆分，结合矢量数据库\n",
    "\n",
    "### 赛事检索数据背景\n",
    "\n",
    "本次赛题主要考察的数据范围：近3年计算机顶会顶刊和arXiv文献PDF全文，大概2万篇左右，同时给出PDF原文\n",
    "数据领域，\n",
    "\n",
    "### 预期解决方案\n",
    "### 时间规划"
   ]
  }
 ],
 "metadata": {
  "kernelspec": {
   "display_name": "Python 3 (ipykernel)",
   "language": "python",
   "name": "python3"
  },
  "language_info": {
   "codemirror_mode": {
    "name": "ipython",
    "version": 3
   },
   "file_extension": ".py",
   "mimetype": "text/x-python",
   "name": "python",
   "nbconvert_exporter": "python",
   "pygments_lexer": "ipython3",
   "version": "3.10.15"
  }
 },
 "nbformat": 4,
 "nbformat_minor": 5
}
