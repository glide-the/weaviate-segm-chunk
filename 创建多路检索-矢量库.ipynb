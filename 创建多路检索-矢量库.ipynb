{
 "cells": [
  {
   "cell_type": "code",
   "execution_count": null,
   "id": "8ef3623e-c637-4d25-95e1-31f1b3a2f835",
   "metadata": {},
   "outputs": [],
   "source": [
    "! pip install -U weaviate-client"
   ]
  },
  {
   "cell_type": "code",
   "execution_count": 16,
   "id": "faf4b3b9-cd5f-429e-8feb-e9ce44412d16",
   "metadata": {
    "scrolled": true
   },
   "outputs": [
    {
     "name": "stdout",
     "output_type": "stream",
     "text": [
      "True\n"
     ]
    }
   ],
   "source": [
    "# import weaviate\n",
    "# from weaviate.classes.init import Auth \n",
    "\n",
    "# # Best practice: store your credentials in environment variables\n",
    "# weaviate_url = 'https://dbvzpt0resxqjgufx5ing.c0.us-west3.gcp.weaviate.cloud'\n",
    "# weaviate_api_key = '3yci5k3foVl0BOIJIPmgv9u6SCySehkn15AY'\n",
    "\n",
    "# # Connect to Weaviate Cloud\n",
    "# client = weaviate.connect_to_weaviate_cloud(\n",
    "#     cluster_url=weaviate_url, \n",
    "#     auth_credentials=Auth.api_key(weaviate_api_key),\n",
    "# )\n",
    "\n",
    "# print(client.is_ready()) "
   ]
  },
  {
   "cell_type": "code",
   "execution_count": 1,
   "id": "8a41e0ae-580a-4ffe-afd6-bc680d4eb759",
   "metadata": {
    "scrolled": true
   },
   "outputs": [
    {
     "name": "stdout",
     "output_type": "stream",
     "text": [
      "True\n"
     ]
    },
    {
     "name": "stderr",
     "output_type": "stream",
     "text": [
      "D:\\project\\weaviate-python-client\\weaviate\\warnings.py:133: DeprecationWarning: Dep005: You are using weaviate-client version 0.1.dev3116+geac93c3. The latest version is 4.10.2.\n",
      "            Consider upgrading to the latest version. See https://weaviate.io/developers/weaviate/client-libraries/python for details.\n",
      "  warnings.warn(\n"
     ]
    }
   ],
   "source": [
    "import weaviate\n",
    "\n",
    "headers = {\n",
    "    \"X-Zhipuai-Api-Key\": '4d6c5f8ad43b8fff94480b95a5a6c5d0.ouFQYxQ8pIVKO7J8'\n",
    "}\n",
    "client = weaviate.connect_to_local(headers=headers)\n",
    "\n",
    "print(client.is_ready())"
   ]
  },
  {
   "cell_type": "code",
   "execution_count": 11,
   "id": "ee49eb23-9b37-4a69-b5e9-236b036a7f96",
   "metadata": {},
   "outputs": [],
   "source": [
    "# client.collections.delete(\"OpenVid_1M\") \n"
   ]
  },
  {
   "cell_type": "code",
   "execution_count": 13,
   "id": "03fd681e-8627-49c4-a94d-6d406e04a24b",
   "metadata": {
    "scrolled": true
   },
   "outputs": [
    {
     "data": {
      "text/plain": [
       "<weaviate.collections.collection.sync.Collection at 0x2817d53cb80>"
      ]
     },
     "execution_count": 13,
     "metadata": {},
     "output_type": "execute_result"
    }
   ],
   "source": [
    "from weaviate.classes.config import Configure, Property, DataType, VectorDistances\n",
    " \n",
    "client.collections.create(\n",
    "    \"OpenVid_1M\",\n",
    "    reranker_config=Configure.Reranker.transformers(),\n",
    "    generative_config=Configure.Generative.zhipuai(\n",
    "        # These parameters are optional\n",
    "        model=\"glm-4\",   \n",
    "        max_tokens=500, \n",
    "        temperature=0.7,\n",
    "        top_p=0.7\n",
    "    ),\n",
    "    vectorizer_config=[\n",
    "        # Set a named vector\n",
    "        Configure.NamedVectors.text2vec_transformers(   \n",
    "            name=\"Video\", source_properties=[\"Video\"] # 视频路径\n",
    "        ),\n",
    "        # Set another named vector\n",
    "        Configure.NamedVectors.text2vec_transformers(   \n",
    "            name=\"Caption\", source_properties=[\"Caption\"], # 视频描述\n",
    "            vector_index_config=Configure.VectorIndex.hnsw(\n",
    "                distance_metric=VectorDistances.COSINE\n",
    "            )\n",
    "        ),\n",
    "        # Set another named vector\n",
    "        Configure.NamedVectors.text2vec_transformers(  \n",
    "            name=\"AestheticScore\", source_properties=[\"AestheticScore\"]        # 审美分数\n",
    "        ),\n",
    "        # Set another named vector\n",
    "        Configure.NamedVectors.text2vec_transformers(   \n",
    "            name=\"MotionScore\", source_properties=[\"MotionScore\"] # 运动得分 \n",
    "           \n",
    "        ),\n",
    "        Configure.NamedVectors.text2vec_transformers(   \n",
    "            name=\"TemporalConsistencyScore\", source_properties=[\"TemporalConsistencyScore\"] # 时间一致得分 \n",
    "      \n",
    "        ),\n",
    "        Configure.NamedVectors.text2vec_transformers(   \n",
    "            name=\"CameraMotion\", source_properties=[\"CameraMotion\"] # 相机运动\n",
    "       \n",
    "        ),\n",
    "        Configure.NamedVectors.text2vec_transformers(   \n",
    "            name=\"Frame\", source_properties=[\"Frame\"] # 帧\n",
    "        \n",
    "        ),\n",
    "        Configure.NamedVectors.text2vec_transformers(   \n",
    "            name=\"FPS\", source_properties=[\"FPS\"] # fps\n",
    "         \n",
    "        ),\n",
    "        Configure.NamedVectors.text2vec_transformers(  \n",
    "            name=\"Seconds\", source_properties=[\"Seconds\"] # 时长\n",
    "        )\n",
    "    ],\n",
    " \n",
    "    properties=[  # Define properties\n",
    "        Property(name=\"Video\", data_type=DataType.TEXT),\n",
    "        Property(name=\"Caption\", data_type=DataType.TEXT),\n",
    "        Property(name=\"AestheticScore\", data_type=DataType.NUMBER),\n",
    "        Property(name=\"MotionScore\", data_type=DataType.NUMBER),\n",
    "        Property(name=\"TemporalConsistencyScore\", data_type=DataType.NUMBER),\n",
    "        Property(name=\"CameraMotion\", data_type=DataType.TEXT),\n",
    "        Property(name=\"Frame\", data_type=DataType.NUMBER),\n",
    "        Property(name=\"FPS\", data_type=DataType.NUMBER),\n",
    "        Property(name=\"Seconds\", data_type=DataType.NUMBER)\n",
    "        \n",
    "    ],\n",
    ")"
   ]
  },
  {
   "cell_type": "code",
   "execution_count": 2,
   "id": "0fba8442-e3c3-47f2-b492-c73899cb9b89",
   "metadata": {},
   "outputs": [
    {
     "name": "stdout",
     "output_type": "stream",
     "text": [
      "文件已存在，无需下载。\n"
     ]
    },
    {
     "data": {
      "text/plain": [
       "True"
      ]
     },
     "execution_count": 2,
     "metadata": {},
     "output_type": "execute_result"
    }
   ],
   "source": [
    " \n",
    "import os\n",
    "import requests\n",
    "\n",
    "file_path = \"OpenVid-1M.csv\"\n",
    "\n",
    "# 检查文件是否存在，如果不存在则下载\n",
    "if not os.path.exists(file_path):\n",
    "    print(\"文件不存在，正在下载...\")\n",
    "    response = requests.get(\n",
    "        \"https://huggingface.co/datasets/nkp37/OpenVid-1M/resolve/main/data/train/OpenVid-1M.csv\"\n",
    "    )\n",
    "    # 保存文件\n",
    "    with open(file_path, \"wb\") as f:\n",
    "        f.write(response.content)\n",
    "    print(\"文件下载完成！\")\n",
    "else:\n",
    "    print(\"文件已存在，无需下载。\")\n",
    "\n",
    "# 确认文件状态\n",
    "file_exists = os.path.exists(file_path)\n",
    "file_exists\n",
    " "
   ]
  },
  {
   "cell_type": "code",
   "execution_count": null,
   "id": "5814ee18-a4b3-4745-bb0a-25aca55c668a",
   "metadata": {
    "scrolled": true
   },
   "outputs": [
    {
     "name": "stdout",
     "output_type": "stream",
     "text": [
      "JSON streaming, to avoid running out of memory on large files...\n",
      "Processing chunk 1...\n",
      "Processing chunk 2...\n",
      "Imported 200 records...\n",
      "Imported 400 records...\n"
     ]
    }
   ],
   "source": [
    "import pandas as pd\n",
    "# Settings for displaying the import progress\n",
    "counter = 0\n",
    "interval = 200  # print progress every this many records; should be bigger than the batch_size\n",
    "collection = client.collections.get(\"OpenVid_1M\")\n",
    "\n",
    "print(\"JSON streaming, to avoid running out of memory on large files...\")\n",
    "  \n",
    " \n",
    "# 分块读取 CSV 文件\n",
    "chunk_size = 10000   # 每次读取10000行\n",
    "for idx, chunk in enumerate(pd.read_csv(file_path, chunksize=chunk_size)):\n",
    "    print(f\"Processing chunk {idx + 1}...\")\n",
    "    for _, row in chunk.iterrows():\n",
    "        if idx<1:\n",
    "            continue\n",
    "        # 读取每一行的视频信息和标题等\n",
    "        video_filename = row['video']\n",
    "        caption = row['caption']\n",
    "        aesthetic_score = row['aesthetic score']\n",
    "        motion_score = row['motion score']\n",
    "        temporal_score = row['temporal consistency score']\n",
    "        camera_motion = row['camera motion']\n",
    "        frame = row['frame']\n",
    "        fps = row['fps']\n",
    "        seconds = row['seconds']\n",
    " \n",
    "        # 构建数据\n",
    "        properties = {\n",
    "            \"Video\": video_filename,\n",
    "            \"Caption\": caption,\n",
    "            \"AestheticScore\": aesthetic_score,\n",
    "            \"MotionScore\": motion_score,\n",
    "            \"TemporalConsistencyScore\": temporal_score,\n",
    "            \"CameraMotion\": camera_motion,\n",
    "            \"Frame\": frame,\n",
    "            \"FPS\": fps,\n",
    "            \"Seconds\": seconds\n",
    "        }\n",
    "\n",
    "        # 向量数据库插入数据\n",
    "        collection.data.insert(\n",
    "            properties=properties, \n",
    "        )\n",
    "\n",
    "        counter += 1\n",
    "\n",
    "        # 每处理200条数据输出一次进度\n",
    "        if counter % interval == 0:\n",
    "            print(f\"Imported {counter} records...\")\n",
    "            \n",
    "# 完成后输出总进度\n",
    "print(f\"Finished importing {counter} records.\")"
   ]
  },
  {
   "cell_type": "code",
   "execution_count": 2,
   "id": "58b501aa-c16f-434d-a117-a2dc5d55cd3a",
   "metadata": {},
   "outputs": [
    {
     "ename": "NameError",
     "evalue": "name 'collection' is not defined",
     "output_type": "error",
     "traceback": [
      "\u001b[1;31m---------------------------------------------------------------------------\u001b[0m",
      "\u001b[1;31mNameError\u001b[0m                                 Traceback (most recent call last)",
      "Cell \u001b[1;32mIn[2], line 1\u001b[0m\n\u001b[1;32m----> 1\u001b[0m collection_shards \u001b[38;5;241m=\u001b[39m \u001b[43mcollection\u001b[49m\u001b[38;5;241m.\u001b[39mconfig\u001b[38;5;241m.\u001b[39mget_shards()\n\u001b[0;32m      2\u001b[0m \u001b[38;5;28mprint\u001b[39m(collection_shards)\n",
      "\u001b[1;31mNameError\u001b[0m: name 'collection' is not defined"
     ]
    }
   ],
   "source": [
    "\n",
    "collection_shards = collection.config.get_shards()\n",
    "print(collection_shards)"
   ]
  },
  {
   "cell_type": "code",
   "execution_count": 10,
   "id": "05e24b1c-7bb6-43c0-876a-8837e0cf459b",
   "metadata": {
    "scrolled": true
   },
   "outputs": [],
   "source": [
    "from weaviate.classes.config import Configure, Property, DataType, VectorDistances, ReplicationDeletionStrategy\n",
    "import weaviate.classes as wvc\n",
    "from weaviate.collections.classes.config import _CollectionConfigUpdate, Reconfigure\n",
    "collection = client.collections.get(\"OpenVid_1M\")\n",
    "\n",
    "collection.config.update(  \n",
    "  reranker_config=Configure.Reranker.transformers(),\n",
    "  replication_config=wvc.config.Reconfigure.replication(\n",
    "        factor=1,\n",
    "        async_enabled=True,  # Enable asynchronous repair\n",
    "        deletion_strategy=ReplicationDeletionStrategy.TIME_BASED_RESOLUTION,  # Added in v1.28; Set the deletion conflict resolution strategy\n",
    "  ),\n",
    "  inverted_index_config= wvc.config.Reconfigure.inverted_index(  # Optional\n",
    "        bm25_b=0.56,\n",
    "        bm25_k1=1.25\n",
    "  ),\n",
    "  vectorizer_config=[\n",
    "       \n",
    "        wvc.config.Reconfigure.NamedVectors.update(\n",
    "            name=\"Caption\",\n",
    "            vector_index_config=wvc.config.Reconfigure.VectorIndex.hnsw(\n",
    "                quantizer=wvc.config.Reconfigure.VectorIndex.Quantizer.pq()\n",
    "            )\n",
    "        ) \n",
    "    ]\n",
    ")"
   ]
  },
  {
   "cell_type": "code",
   "execution_count": null,
   "id": "992f3ca0-a93d-433f-93ca-76a4b2a92bfb",
   "metadata": {},
   "outputs": [],
   "source": []
  }
 ],
 "metadata": {
  "kernelspec": {
   "display_name": "Python 3 (ipykernel)",
   "language": "python",
   "name": "python3"
  },
  "language_info": {
   "codemirror_mode": {
    "name": "ipython",
    "version": 3
   },
   "file_extension": ".py",
   "mimetype": "text/x-python",
   "name": "python",
   "nbconvert_exporter": "python",
   "pygments_lexer": "ipython3",
   "version": "3.10.15"
  }
 },
 "nbformat": 4,
 "nbformat_minor": 5
}
