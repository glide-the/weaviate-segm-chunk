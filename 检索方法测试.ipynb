{
 "cells": [
  {
   "cell_type": "markdown",
   "id": "be6f5ebd-a1a8-4dac-9952-809e9e99d5d0",
   "metadata": {},
   "source": [
    "## Weaviate使用查询测试\n",
    "演示一些在weaviate中的查询方法，演示了在1M数据集中不同的检索任务\n"
   ]
  },
  {
   "cell_type": "markdown",
   "id": "e699f585-6421-4ee9-bca4-7f32bd677339",
   "metadata": {},
   "source": [
    "#### 链接本地服务\n",
    "> 注意执行前，请打开本地服务"
   ]
  },
  {
   "cell_type": "code",
   "execution_count": 2,
   "id": "287b9551-9df5-412e-ac67-29d2a1bee3e4",
   "metadata": {},
   "outputs": [
    {
     "name": "stdout",
     "output_type": "stream",
     "text": [
      "True\n"
     ]
    },
    {
     "name": "stderr",
     "output_type": "stream",
     "text": [
      "D:\\project\\weaviate-python-client\\weaviate\\warnings.py:133: DeprecationWarning: Dep005: You are using weaviate-client version 0.1.dev3117+gae1bb03.d20241220. The latest version is 4.10.2.\n",
      "            Consider upgrading to the latest version. See https://weaviate.io/developers/weaviate/client-libraries/python for details.\n",
      "  warnings.warn(\n"
     ]
    }
   ],
   "source": [
    "import weaviate\n",
    "\n",
    "client = weaviate.connect_to_local()\n",
    "\n",
    "print(client.is_ready())"
   ]
  },
  {
   "cell_type": "markdown",
   "id": "4465a265-d559-4d6d-b55d-b2aa69561fa3",
   "metadata": {},
   "source": [
    "#### 链接OpenVid_1M Collections"
   ]
  },
  {
   "cell_type": "code",
   "execution_count": 3,
   "id": "1915ea9b-2d6a-47e0-9ef2-777b1125cc43",
   "metadata": {},
   "outputs": [],
   "source": [
    "jeopardy = client.collections.get(\"OpenVid_1M\")"
   ]
  },
  {
   "cell_type": "markdown",
   "id": "6d073dbc-d3cb-4da7-b438-c22773111c26",
   "metadata": {},
   "source": [
    "## 测试任务\n",
    "1、 根据描述词和相机动作召回\n",
    "\n",
    "2、 根据描述带有窗户、食物的关键词召回\n",
    "\n",
    "3、 带有空间标量的召回策略\n",
    "\n",
    "4、 其它召回方式\n",
    "\n",
    "\n",
    " 更多的检索方法请参考 [search](https://weaviate.io/developers/weaviate/search), "
   ]
  },
  {
   "cell_type": "markdown",
   "id": "cd820fa2-439e-4360-9965-6b9441ebd9b2",
   "metadata": {},
   "source": [
    "\n",
    "### 矢量召回策略\n",
    "\n",
    "> 根据描述词和相机动作召回,\n",
    "> \n",
    "> [向量相似度搜索](https://weaviate.io/developers/weaviate/search/similarity)：涵盖搜索与查询具有最相似向量表示的对象的 nearXXX 搜索。\n",
    "> \n",
    "> 这个 [nearText](https://weaviate.io/developers/weaviate/api/graphql/search-operators#neartext) 运算符根据数据对象与自然语言查询的向量相似度查找数据对象。"
   ]
  },
  {
   "cell_type": "code",
   "execution_count": 5,
   "id": "6a60d578-189b-45a9-b8d0-2171b65243ba",
   "metadata": {
    "scrolled": true
   },
   "outputs": [
    {
     "name": "stdout",
     "output_type": "stream",
     "text": [
      "The video features a woman with blonde hair, wearing a red jacket, smiling and gesturing with her hands. She is seated in a coffee shop, surrounded by other patrons and a counter with various items. The setting is casual and inviting, with a warm and cozy atmosphere. The woman appears to be engaged in a conversation or sharing a story, as she smiles and makes expressive hand gestures. The video captures a moment of connection and enjoyment in a public space.\n",
      "tilt_up\n",
      "0.0 \n",
      "The video is an aerial view of a large sports complex. The complex features a football field with a track around it, a large parking lot, and several buildings. The football field is green with white lines marking the field. The track is black with white lines marking the lanes. The parking lot is filled with cars and trucks. The buildings are large and appear to be made of brick. The complex is surrounded by trees and a river. The sky is cloudy and the lighting is overcast. The style of the video is realistic and it captures the details of the complex and its surroundings.\n",
      "Undetermined\n",
      "0.0 \n"
     ]
    }
   ],
   "source": [
    "from weaviate.classes.query import MetadataQuery\n",
    "\n",
    "\n",
    "vector_names = [\"Caption\", \"CameraMotion\"]\n",
    "response = jeopardy.query.near_text(\n",
    "    query=\"A Ice cream appears in front of the window, and the view outside the window is very peaceful.\",  \n",
    "    target_vector=vector_names,  # Specify the target vector for named vector collections \n",
    "    limit=2,\n",
    "    return_metadata=MetadataQuery(score=True, explain_score=True),\n",
    ")\n",
    "\n",
    "\n",
    "\n",
    "for o in response.objects:\n",
    "    print(o.properties['caption'])\n",
    "    print(o.properties['cameraMotion'])\n",
    "    print(o.metadata.score, o.metadata.explain_score)"
   ]
  },
  {
   "cell_type": "markdown",
   "id": "f2a2cf00-0253-49c2-a171-d045841f6bce",
   "metadata": {},
   "source": [
    "### BM25关键词召回，与窗户、食物有关的文本\n",
    " \n",
    "> The [bm25](https://weaviate.io/developers/weaviate/search/bm25) 运算符执行关键字（稀疏向量）搜索，并使用 BM25F 排名函数对结果进行评分\n"
   ]
  },
  {
   "cell_type": "code",
   "execution_count": 11,
   "id": "a3f49bcf-f1dc-44b6-9ae1-58e0b866ce71",
   "metadata": {
    "scrolled": true
   },
   "outputs": [
    {
     "name": "stdout",
     "output_type": "stream",
     "text": [
      "In the video, a man is seen in a kitchen, holding a large white bowl filled with a colorful assortment of food. He is wearing a white hat and a green shirt, and he is holding a spoon in his hand. The man is smiling and appears to be enjoying the food. The kitchen has white cabinets and a window in the background. The man is standing in front of the window, which lets in natural light. The food in the bowl includes various vegetables and meat, and it looks delicious. The man seems to be preparing to eat the food, as he is holding the spoon over the bowl. The overall atmosphere of the video is warm and inviting, with the man appearing to be in a good mood.\n",
      "static\n",
      "3.759178638458252 , BM25F_window_frequency:2, BM25F_window_propLength:61, BM25F_food_frequency:4, BM25F_food_propLength:61\n",
      "In the video, a man is seen enjoying a meal at a table. He is wearing a red shirt and is seated in front of a white bowl filled with food. He is using a spoon to eat the food. The table is made of wood and is located near a window. The window has a white frame and is covered with a white curtain. The man appears to be in a good mood as he enjoys his meal. The overall atmosphere of the video is casual and relaxed.\n",
      "static\n",
      "3.5218000411987305 , BM25F_window_frequency:2, BM25F_window_propLength:48, BM25F_food_frequency:2, BM25F_food_propLength:48\n"
     ]
    }
   ],
   "source": [
    "from weaviate.classes.query import MetadataQuery\n",
    "\n",
    "response = jeopardy.query.bm25(\n",
    "    query=\"window food\",  \n",
    "    limit=2,\n",
    "    query_properties=[\"Caption\"],\n",
    "    return_metadata=MetadataQuery(score=True, explain_score=True),\n",
    ")\n",
    "\n",
    "\n",
    "\n",
    "for o in response.objects:\n",
    "    print(o.properties['caption'])\n",
    "    print(o.properties['cameraMotion'])\n",
    "    print(o.metadata.score, o.metadata.explain_score)"
   ]
  },
  {
   "cell_type": "markdown",
   "id": "4c248aae-396d-4f89-841f-99a578f26c02",
   "metadata": {},
   "source": []
  },
  {
   "cell_type": "markdown",
   "id": "de89a0e7-1f59-4a5e-8234-e21363a63f16",
   "metadata": {},
   "source": [
    "### 矢量召回，增加距离排序\n",
    "\n",
    "先筛选一个相似的范围，然后在这个空间中，按照词义进行标量排序，\n",
    "\n",
    "这种方法适用于目标任务确定，结果符合幂等，静态数据检索等任务\n",
    "\n",
    "> 注意： Rerank方法需要提前设置[Collections重排序模块](https://weaviate.io/developers/weaviate/concepts/reranking)，重排序模块根据不同的标准或不同的（例如更昂贵的）算法重新排列搜索结果集。"
   ]
  },
  {
   "cell_type": "code",
   "execution_count": 12,
   "id": "9af2df6a-1ab3-4108-a917-384171a7cb7b",
   "metadata": {
    "scrolled": true
   },
   "outputs": [
    {
     "name": "stdout",
     "output_type": "stream",
     "text": [
      "The video shows a man in a kitchen, wearing an apron and giving a thumbs-up gesture. He is standing in front of a window that offers a view of the outdoors. The kitchen is equipped with modern appliances, including a microwave and a coffee maker. The man appears to be in a good mood, possibly indicating that he is pleased with his cooking or the overall situation. The style of the video is casual and informal, suggesting that it might be a personal vlog or a cooking tutorial.\n",
      "tilt_up\n",
      "MetadataReturn(creation_time=None, last_update_time=None, distance=1.0403149127960205, certainty=None, score=0.0, explain_score='', is_consistent=None, rerank_score=-5.093292236328125)\n"
     ]
    }
   ],
   "source": [
    "from weaviate.classes.query import Rerank, MetadataQuery\n",
    "\n",
    "vector_names = [\"Caption\", \"CameraMotion\"]\n",
    "response = jeopardy.query.near_text(\n",
    "    query=\"A Ice cream appears in front of the window, and the view outside the window is very peaceful.\",  \n",
    "    target_vector=vector_names,  # Specify the target vector for named vector collections \n",
    "    limit=1,\n",
    "    rerank=Rerank(\n",
    "        prop=\"caption\",\n",
    "        query=\"food\"\n",
    "    ),\n",
    "    return_metadata=MetadataQuery(score=True, explain_score=True, distance=True),\n",
    ")\n",
    "\n",
    "\n",
    "\n",
    "for o in response.objects:\n",
    "    print(o.properties['caption'])\n",
    "    print(o.properties['cameraMotion'])\n",
    "    print(o.metadata)"
   ]
  },
  {
   "cell_type": "markdown",
   "id": "0b2e7035-43d6-4fac-82a6-b5c17c9aaf8d",
   "metadata": {},
   "source": [
    "#### 找到准确的标量的召回\n",
    "\n",
    "观察到结果确实如我们想要的意义，一个带有房间窗户户外食物元素的内容召回\n",
    "\n",
    "不过对于这种召回仍然有些瑕疵，具体还是因为我们仍然无法度量，我们的任务在这几个元素的占比\n",
    "\n",
    "当空间标量无法度量（有聚集）时，这个召回策略仍然不可用\n",
    "重排序仍然有个问题，当我们的数据样本很少，又需要把样本按照标量标记空间距离，这时一个准确的标量空间应该是尽可能的在一个聚集内"
   ]
  },
  {
   "cell_type": "markdown",
   "id": "33885e06-e797-4138-b1ab-9db2c9a8fc6e",
   "metadata": {},
   "source": [
    "### 方式一\n",
    "\n",
    "过滤检索范围，通过使用关键词筛选，缩小查询结果\n"
   ]
  },
  {
   "cell_type": "code",
   "execution_count": 9,
   "id": "d5352a01-2d88-499a-9f1c-3e61143002d2",
   "metadata": {
    "scrolled": true
   },
   "outputs": [
    {
     "name": "stdout",
     "output_type": "stream",
     "text": [
      "a5528dee-c3c1-452a-a554-737e52f05ff6\n",
      "The video shows a close-up of a plate of food, which includes a serving of rice, beans, and avocado slices. The food is presented on a green plate with a striped pattern. The style of the video is simple and straightforward, focusing on the food without any additional context or background. The camera angle is slightly elevated, providing a clear view of the food on the plate. The lighting is bright, highlighting the colors and textures of the food. The video does not contain any text or additional elements, and the focus is solely on the plate of food.\n",
      "Undetermined\n",
      "MetadataReturn(creation_time=None, last_update_time=None, distance=None, certainty=None, score=2.2844784259796143, explain_score=', BM25F_food_frequency:6, BM25F_food_propLength:53', is_consistent=None, rerank_score=None)\n"
     ]
    }
   ],
   "source": [
    "from weaviate.classes.query import MetadataQuery\n",
    "from weaviate.classes.query import Filter\n",
    "\n",
    "## 查找关于食物特写的描述\n",
    "response = jeopardy.query.bm25(\n",
    "    query=\"Food\",  \n",
    "    limit=1,\n",
    "    filters=Filter.by_property(\"caption\").equal(\"a close-up view\"),\n",
    "    query_properties=[\"Caption\"],\n",
    "    return_metadata=MetadataQuery(score=True, explain_score=True),\n",
    ")\n",
    "\n",
    "\n",
    "## 查找关于食物牛油果的描述\n",
    "response = jeopardy.query.bm25(\n",
    "    query=\"Food\",  \n",
    "    limit=1,\n",
    "    filters=Filter.by_property(\"caption\").equal(\"avocado slices\"),\n",
    "    query_properties=[\"Caption\"],\n",
    "    return_metadata=MetadataQuery(score=True, explain_score=True),\n",
    ")\n",
    "\n",
    "\n",
    "for o in response.objects:\n",
    "    print(o.uuid)\n",
    "    print(o.properties['caption'])\n",
    "    print(o.properties['cameraMotion'])\n",
    "    print(o.metadata)"
   ]
  },
  {
   "cell_type": "markdown",
   "id": "80c40f6d-1531-4075-ae08-519da6ccd216",
   "metadata": {},
   "source": [
    "> 关键词召回确实限定了很多内容，但如果检索文本中不包含相关关键词，又或者关键词具有多种解释时，这种方法的效果将不能完成任务\n",
    "> \n",
    "> 这里的BM25F_food_frequency、BM25F_food_propLength与bm25的评分算法有关，这个文本中有很多关于window的形容词，它们在不同领域是不同的术语，增加BM25的b参数可以调节 https://www.cnblogs.com/novwind/p/15177871.html"
   ]
  },
  {
   "cell_type": "markdown",
   "id": "85485f2e-fb96-4272-9f63-962be24a61a4",
   "metadata": {},
   "source": [
    "### 方式二\n",
    "\n",
    "使用[语义分析](https://weaviate.io/developers/weaviate/api/graphql/search-operators#example-ii)可以让我们的检索效果更加精确，具体演示语义路径检索在另外章节\n",
    "\n",
    "这里通过对目标矢量偏移，修改搜索词在空间向量的坐标，可控制的操作方法如，在空间距离上修改词的距离，远离或者接近\n",
    "\n",
    "\n",
    "\n",
    "#### Semantic Path 语义路径 \n",
    "仅适用于 text2vec-contextionary 模块\n",
    "\n",
    "注意：仅当将 nearText: {} 操作符设置为探索术语时，才能构建语义路径，因为探索术语代表路径的开始，每个搜索结果代表路径的结束。由于 nearText: {} 查询目前仅在 GraphQL 中可行，因此 semanticPath 在 REST API 中不可用。"
   ]
  },
  {
   "cell_type": "code",
   "execution_count": 14,
   "id": "8efef6cd-2e81-4716-b420-a164a38cc289",
   "metadata": {
    "scrolled": true
   },
   "outputs": [],
   "source": [
    "# Semantic path is not yet supported by the V4 client. Please use a raw GraphQL query instead.\n",
    "response = client.graphql_raw_query(\n",
    "  \"\"\"\n",
    "  {\n",
    "    Get {\n",
    "      OpenVidContext(\n",
    "        nearText:{\n",
    "          concepts: [\"food\"], \n",
    "          distance: 0.23, \n",
    "          moveAwayFrom: {\n",
    "            concepts: [\"finance\"],\n",
    "            force: 0.45\n",
    "          },\n",
    "          moveTo: {\n",
    "            concepts: [\"apples\", \"food\"],\n",
    "            force: 0.85\n",
    "          }\n",
    "        }\n",
    "      ) {\n",
    "        caption\n",
    "        _additional {\n",
    "          semanticPath {\n",
    "            path {\n",
    "              concept\n",
    "              distanceToNext\n",
    "              distanceToPrevious\n",
    "              distanceToQuery\n",
    "              distanceToResult\n",
    "            }\n",
    "          }\n",
    "        }\n",
    "      }\n",
    "    }\n",
    "  }\n",
    "  \"\"\"\n",
    ") "
   ]
  },
  {
   "cell_type": "markdown",
   "id": "30b9a210-4f63-46e0-b61c-246c2731d718",
   "metadata": {},
   "source": [
    "### 使用混合查询方法"
   ]
  },
  {
   "cell_type": "markdown",
   "id": "08c42b43-5680-4f03-9a45-24bd031f8dbc",
   "metadata": {},
   "source": [
    "可度量的混合搜索 度量方式  \n",
    "\n",
    "混合搜索结果根据关键词组件或向量组件的权重参数。改变关键词和向量组件的相对权重，alpha 值可以做到不同比例的内容\n",
    " \n",
    "- alpha 偏向 1 是一个纯向量搜索。 \n",
    "- alpha 偏向 0 是一个纯关键词搜索。\n"
   ]
  },
  {
   "cell_type": "code",
   "execution_count": 15,
   "id": "8acf2d8d-48de-4f24-b190-c4cccebc8dfc",
   "metadata": {
    "scrolled": true
   },
   "outputs": [
    {
     "name": "stdout",
     "output_type": "stream",
     "text": [
      "The video captures a delightful scene of two scoops of vanilla ice cream on a white plate, placed on a counter. The ice cream is generously drizzled with a rich, golden caramel sauce, adding a sweet and sticky element to the dish. The plate is positioned in front of a window, which offers a glimpse of a lively park scene outside. People can be seen walking and enjoying the day, adding a sense of life and movement to the otherwise still image. The overall style of the video is simple yet appealing, focusing on the ice cream and the window view, while the background activity provides a sense of depth and context to the scene.\n",
      "static\n",
      "MetadataReturn(creation_time=None, last_update_time=None, distance=None, certainty=None, score=0.8999999761581421, explain_score='\\nHybrid (Result Set keyword,bm25) Document 12be133a-4a53-4cb6-bb4b-413980b5813b: original score 14.165811, normalized score: 0.9', is_consistent=None, rerank_score=None)\n"
     ]
    }
   ],
   "source": [
    "from weaviate.classes.query import MetadataQuery\n",
    "\n",
    "vector_names = [\"Caption\"]\n",
    "response = jeopardy.query.hybrid(\n",
    "    query=\"A Ice cream appears in front of the window, and the view outside the window is very peaceful.\",  \n",
    "    target_vector=vector_names,  # Specify the target vector for named vector collections\n",
    "    limit=1,\n",
    "    alpha=0.1,\n",
    "    query_properties=[\"caption\"],  \n",
    "    return_metadata=MetadataQuery(score=True, explain_score=True, distance=True),\n",
    ")\n",
    "\n",
    "\n",
    "\n",
    "for o in response.objects:\n",
    "    print(o.properties['caption'])\n",
    "    print(o.properties['cameraMotion'])\n",
    "    print(o.metadata)"
   ]
  }
 ],
 "metadata": {
  "kernelspec": {
   "display_name": "Python 3 (ipykernel)",
   "language": "python",
   "name": "python3"
  },
  "language_info": {
   "codemirror_mode": {
    "name": "ipython",
    "version": 3
   },
   "file_extension": ".py",
   "mimetype": "text/x-python",
   "name": "python",
   "nbconvert_exporter": "python",
   "pygments_lexer": "ipython3",
   "version": "3.10.15"
  }
 },
 "nbformat": 4,
 "nbformat_minor": 5
}
