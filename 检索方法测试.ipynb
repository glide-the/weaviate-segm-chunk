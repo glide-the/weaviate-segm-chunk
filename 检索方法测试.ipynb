{
 "cells": [
  {
   "cell_type": "markdown",
   "id": "be6f5ebd-a1a8-4dac-9952-809e9e99d5d0",
   "metadata": {},
   "source": [
    "## Weaviate使用查询测试\n",
    "演示一些在weaviate中的查询方法，演示了在1M数据集中不同的检索任务\n"
   ]
  },
  {
   "cell_type": "markdown",
   "id": "e699f585-6421-4ee9-bca4-7f32bd677339",
   "metadata": {},
   "source": [
    "#### 链接本地服务\n",
    "> 注意执行前，请打开本地服务"
   ]
  },
  {
   "cell_type": "code",
   "execution_count": 8,
   "id": "287b9551-9df5-412e-ac67-29d2a1bee3e4",
   "metadata": {},
   "outputs": [
    {
     "name": "stdout",
     "output_type": "stream",
     "text": [
      "True\n"
     ]
    }
   ],
   "source": [
    "import weaviate\n",
    "\n",
    "client = weaviate.connect_to_local()\n",
    "\n",
    "print(client.is_ready())"
   ]
  },
  {
   "cell_type": "markdown",
   "id": "4465a265-d559-4d6d-b55d-b2aa69561fa3",
   "metadata": {},
   "source": [
    "#### 链接OpenVid_1M Collections"
   ]
  },
  {
   "cell_type": "code",
   "execution_count": 9,
   "id": "1915ea9b-2d6a-47e0-9ef2-777b1125cc43",
   "metadata": {},
   "outputs": [],
   "source": [
    "jeopardy = client.collections.get(\"OpenVid_1M\")"
   ]
  },
  {
   "cell_type": "markdown",
   "id": "6d073dbc-d3cb-4da7-b438-c22773111c26",
   "metadata": {},
   "source": [
    "## 测试任务\n",
    "1、 根据描述词和相机动作召回\n",
    "\n",
    "2、 根据描述带有窗户、食物的关键词召回\n",
    "\n",
    "3、 带有空间标量的召回策略\n",
    "\n",
    "4、 其它召回方式\n",
    "\n",
    "\n",
    " 更多的检索方法请参考 [search](https://weaviate.io/developers/weaviate/search), "
   ]
  },
  {
   "cell_type": "markdown",
   "id": "cd820fa2-439e-4360-9965-6b9441ebd9b2",
   "metadata": {},
   "source": [
    "\n",
    "### 矢量召回策略\n",
    "\n",
    "> 根据描述词和相机动作召回,\n",
    "> \n",
    "> [向量相似度搜索](https://weaviate.io/developers/weaviate/search/similarity)：涵盖搜索与查询具有最相似向量表示的对象的 nearXXX 搜索。\n",
    "> \n",
    "> 这个 [nearText](https://weaviate.io/developers/weaviate/api/graphql/search-operators#neartext) 运算符根据数据对象与自然语言查询的向量相似度查找数据对象。"
   ]
  },
  {
   "cell_type": "code",
   "execution_count": 10,
   "id": "6a60d578-189b-45a9-b8d0-2171b65243ba",
   "metadata": {
    "scrolled": true
   },
   "outputs": [
    {
     "name": "stdout",
     "output_type": "stream",
     "text": [
      "The video features a woman with blonde hair, wearing a red jacket, smiling and gesturing with her hands. She is seated in a coffee shop, surrounded by other patrons and a counter with various items. The setting is casual and inviting, with a warm and cozy atmosphere. The woman appears to be engaged in a conversation or sharing a story, as she smiles and makes expressive hand gestures. The video captures a moment of connection and enjoyment in a public space.\n",
      "tilt_up\n",
      "0.0 \n",
      "The video features a man with a beard and dreadlocks, wearing a black leather vest and a black wristband. He is holding a microphone and appears to be speaking or singing. The man is gesturing with his right hand, pointing upwards towards the ceiling. The background is dark, with a blurred image that suggests an indoor setting, possibly a stage or a concert venue. The style of the video is a close-up shot of the man, focusing on his facial expressions and gestures, with the microphone and his hand as the main objects in the frame. The lighting is dim, highlighting the man's features and the microphone. The overall mood of the video is intense and dramatic, with the man's expressive gestures and the microphone suggesting a performance or a speech.\n",
      "zoom_in\n",
      "0.0 \n"
     ]
    }
   ],
   "source": [
    "from weaviate.classes.query import MetadataQuery\n",
    "\n",
    "\n",
    "vector_names = [\"Caption\", \"CameraMotion\"]\n",
    "response = jeopardy.query.near_text(\n",
    "    query=\"A Ice cream appears in front of the window, and the view outside the window is very peaceful.\",  \n",
    "    target_vector=vector_names,  # Specify the target vector for named vector collections \n",
    "    limit=2,\n",
    "    return_metadata=MetadataQuery(score=True, explain_score=True),\n",
    ")\n",
    "\n",
    "\n",
    "\n",
    "for o in response.objects:\n",
    "    print(o.properties['caption'])\n",
    "    print(o.properties['cameraMotion'])\n",
    "    print(o.metadata.score, o.metadata.explain_score)"
   ]
  },
  {
   "cell_type": "markdown",
   "id": "f2a2cf00-0253-49c2-a171-d045841f6bce",
   "metadata": {},
   "source": [
    "### BM25关键词召回，与窗户、食物有关的文本\n",
    " \n",
    "> The [bm25](https://weaviate.io/developers/weaviate/search/bm25) 运算符执行关键字（稀疏向量）搜索，并使用 BM25F 排名函数对结果进行评分\n"
   ]
  },
  {
   "cell_type": "code",
   "execution_count": 11,
   "id": "a3f49bcf-f1dc-44b6-9ae1-58e0b866ce71",
   "metadata": {
    "scrolled": true
   },
   "outputs": [
    {
     "name": "stdout",
     "output_type": "stream",
     "text": [
      "In the video, a man is seen in a kitchen, holding a large white bowl filled with a colorful assortment of food. He is wearing a white hat and a green shirt, and he is holding a spoon in his hand. The man is smiling and appears to be enjoying the food. The kitchen has white cabinets and a window in the background. The man is standing in front of the window, which lets in natural light. The food in the bowl includes various vegetables and meat, and it looks delicious. The man seems to be preparing to eat the food, as he is holding the spoon over the bowl. The overall atmosphere of the video is warm and inviting, with the man appearing to be in a good mood.\n",
      "static\n",
      "3.759178638458252 , BM25F_window_frequency:2, BM25F_window_propLength:61, BM25F_food_frequency:4, BM25F_food_propLength:61\n",
      "In the video, a man is seen enjoying a meal at a table. He is wearing a red shirt and is seated in front of a white bowl filled with food. He is using a spoon to eat the food. The table is made of wood and is located near a window. The window has a white frame and is covered with a white curtain. The man appears to be in a good mood as he enjoys his meal. The overall atmosphere of the video is casual and relaxed.\n",
      "static\n",
      "3.5218000411987305 , BM25F_window_frequency:2, BM25F_window_propLength:48, BM25F_food_frequency:2, BM25F_food_propLength:48\n"
     ]
    }
   ],
   "source": [
    "from weaviate.classes.query import MetadataQuery\n",
    "\n",
    "response = jeopardy.query.bm25(\n",
    "    query=\"window food\",  \n",
    "    limit=2,\n",
    "    query_properties=[\"Caption\"],\n",
    "    return_metadata=MetadataQuery(score=True, explain_score=True),\n",
    ")\n",
    "\n",
    "\n",
    "\n",
    "for o in response.objects:\n",
    "    print(o.properties['caption'])\n",
    "    print(o.properties['cameraMotion'])\n",
    "    print(o.metadata.score, o.metadata.explain_score)"
   ]
  },
  {
   "cell_type": "markdown",
   "id": "de89a0e7-1f59-4a5e-8234-e21363a63f16",
   "metadata": {},
   "source": [
    "### 矢量召回，增加距离排序\n",
    "\n",
    "先筛选一个相似的范围，然后在这个空间中，按照词义进行标量排序，\n",
    "\n",
    "这种方法适用于目标任务确定，结果符合幂等，静态数据检索等任务\n",
    "\n",
    "> 注意： Rerank方法需要提前设置[Collections重排序模块](https://weaviate.io/developers/weaviate/concepts/reranking)，重排序模块根据不同的标准或不同的（例如更昂贵的）算法重新排列搜索结果集。"
   ]
  },
  {
   "cell_type": "code",
   "execution_count": 12,
   "id": "9af2df6a-1ab3-4108-a917-384171a7cb7b",
   "metadata": {
    "scrolled": true
   },
   "outputs": [
    {
     "name": "stdout",
     "output_type": "stream",
     "text": [
      "The video is an aerial view of a large sports complex. The complex features a football field with a track around it, a large parking lot, and several buildings. The football field is green with white lines marking the field. The track is black with white lines marking the lanes. The parking lot is filled with cars and trucks. The buildings are large and appear to be made of brick. The complex is surrounded by trees and a river. The sky is cloudy and the lighting is overcast. The style of the video is realistic and it captures the details of the complex and its surroundings.\n",
      "Undetermined\n",
      "MetadataReturn(creation_time=None, last_update_time=None, distance=1.0403149127960205, certainty=None, score=0.0, explain_score='', is_consistent=None, rerank_score=-10.14773178100586)\n"
     ]
    }
   ],
   "source": [
    "from weaviate.classes.query import Rerank, MetadataQuery\n",
    "\n",
    "vector_names = [\"Caption\", \"CameraMotion\"]\n",
    "response = jeopardy.query.near_text(\n",
    "    query=\"A Ice cream appears in front of the window, and the view outside the window is very peaceful.\",  \n",
    "    target_vector=vector_names,  # Specify the target vector for named vector collections \n",
    "    limit=1,\n",
    "    rerank=Rerank(\n",
    "        prop=\"caption\",\n",
    "        query=\"food\"\n",
    "    ),\n",
    "    return_metadata=MetadataQuery(score=True, explain_score=True, distance=True),\n",
    ")\n",
    "\n",
    "\n",
    "\n",
    "for o in response.objects:\n",
    "    print(o.properties['caption'])\n",
    "    print(o.properties['cameraMotion'])\n",
    "    print(o.metadata)"
   ]
  },
  {
   "cell_type": "markdown",
   "id": "0b2e7035-43d6-4fac-82a6-b5c17c9aaf8d",
   "metadata": {},
   "source": [
    "#### 找到准确的标量的召回\n",
    "\n",
    "观察到结果确实如我们想要的意义，一个带有房间窗户户外食物元素的内容召回\n",
    "\n",
    "不过对于这种召回仍然有些瑕疵，具体还是因为我们仍然无法度量，我们的任务在这几个元素的占比\n",
    "\n",
    "当空间标量无法度量（有聚集）时，这个召回策略仍然不可用\n",
    "重排序仍然有个问题，当我们的数据样本很少，又需要把样本按照标量标记空间距离，这时一个准确的标量空间应该是尽可能的在一个聚集内"
   ]
  },
  {
   "cell_type": "markdown",
   "id": "33885e06-e797-4138-b1ab-9db2c9a8fc6e",
   "metadata": {},
   "source": [
    "### 方式一\n",
    "\n",
    "过滤检索范围，通过使用关键词筛选，缩小查询结果\n"
   ]
  },
  {
   "cell_type": "code",
   "execution_count": 13,
   "id": "d5352a01-2d88-499a-9f1c-3e61143002d2",
   "metadata": {
    "scrolled": true
   },
   "outputs": [
    {
     "name": "stdout",
     "output_type": "stream",
     "text": [
      "a5528dee-c3c1-452a-a554-737e52f05ff6\n",
      "The video shows a close-up of a plate of food, which includes a serving of rice, beans, and avocado slices. The food is presented on a green plate with a striped pattern. The style of the video is simple and straightforward, focusing on the food without any additional context or background. The camera angle is slightly elevated, providing a clear view of the food on the plate. The lighting is bright, highlighting the colors and textures of the food. The video does not contain any text or additional elements, and the focus is solely on the plate of food.\n",
      "Undetermined\n",
      "MetadataReturn(creation_time=None, last_update_time=None, distance=None, certainty=None, score=2.2844784259796143, explain_score=', BM25F_food_frequency:6, BM25F_food_propLength:53', is_consistent=None, rerank_score=None)\n"
     ]
    }
   ],
   "source": [
    "from weaviate.classes.query import MetadataQuery\n",
    "from weaviate.classes.query import Filter\n",
    "\n",
    "## 查找关于食物特写的描述\n",
    "response = jeopardy.query.bm25(\n",
    "    query=\"Food\",  \n",
    "    limit=1,\n",
    "    filters=Filter.by_property(\"caption\").equal(\"a close-up view\"),\n",
    "    query_properties=[\"Caption\"],\n",
    "    return_metadata=MetadataQuery(score=True, explain_score=True),\n",
    ")\n",
    "\n",
    "\n",
    "## 查找关于食物牛油果的描述\n",
    "response = jeopardy.query.bm25(\n",
    "    query=\"Food\",  \n",
    "    limit=1,\n",
    "    filters=Filter.by_property(\"caption\").equal(\"avocado slices\"),\n",
    "    query_properties=[\"Caption\"],\n",
    "    return_metadata=MetadataQuery(score=True, explain_score=True),\n",
    ")\n",
    "\n",
    "\n",
    "for o in response.objects:\n",
    "    print(o.uuid)\n",
    "    print(o.properties['caption'])\n",
    "    print(o.properties['cameraMotion'])\n",
    "    print(o.metadata)"
   ]
  },
  {
   "cell_type": "markdown",
   "id": "80c40f6d-1531-4075-ae08-519da6ccd216",
   "metadata": {},
   "source": [
    "> 关键词召回确实限定了很多内容，但如果检索文本中不包含相关关键词，又或者关键词具有多种解释时，这种方法的效果将不能完成任务\n",
    "> \n",
    "> 这里的BM25F_food_frequency、BM25F_food_propLength与bm25的评分算法有关，这个文本中有很多关于window的形容词，它们在不同领域是不同的术语，增加BM25的b参数可以调节 https://www.cnblogs.com/novwind/p/15177871.html"
   ]
  },
  {
   "cell_type": "markdown",
   "id": "85485f2e-fb96-4272-9f63-962be24a61a4",
   "metadata": {},
   "source": [
    "### 方式二\n",
    "\n",
    "使用[语义分析](https://weaviate.io/developers/weaviate/api/graphql/search-operators#example-ii)可以让我们的检索效果更加精确，具体演示语义路径检索在另外章节\n",
    "\n",
    "这里通过对目标矢量偏移，修改搜索词在空间向量的坐标，可控制的操作方法如，在空间距离上修改词的距离，远离或者接近\n",
    "\n",
    "\n",
    "\n",
    "#### Semantic Path 语义路径 \n",
    "仅适用于 text2vec-contextionary 模块\n",
    "\n",
    "注意：仅当将 nearText: {} 操作符设置为探索术语时，才能构建语义路径，因为探索术语代表路径的开始，每个搜索结果代表路径的结束。由于 nearText: {} 查询目前仅在 GraphQL 中可行，因此 semanticPath 在 REST API 中不可用。"
   ]
  },
  {
   "cell_type": "code",
   "execution_count": 14,
   "id": "8efef6cd-2e81-4716-b420-a164a38cc289",
   "metadata": {
    "scrolled": true
   },
   "outputs": [],
   "source": [
    "# Semantic path is not yet supported by the V4 client. Please use a raw GraphQL query instead.\n",
    "response = client.graphql_raw_query(\n",
    "  \"\"\"\n",
    "  {\n",
    "    Get {\n",
    "      OpenVidContext(\n",
    "        nearText:{\n",
    "          concepts: [\"food\"], \n",
    "          distance: 0.23, \n",
    "          moveAwayFrom: {\n",
    "            concepts: [\"finance\"],\n",
    "            force: 0.45\n",
    "          },\n",
    "          moveTo: {\n",
    "            concepts: [\"apples\", \"food\"],\n",
    "            force: 0.85\n",
    "          }\n",
    "        }\n",
    "      ) {\n",
    "        caption\n",
    "        _additional {\n",
    "          semanticPath {\n",
    "            path {\n",
    "              concept\n",
    "              distanceToNext\n",
    "              distanceToPrevious\n",
    "              distanceToQuery\n",
    "              distanceToResult\n",
    "            }\n",
    "          }\n",
    "        }\n",
    "      }\n",
    "    }\n",
    "  }\n",
    "  \"\"\"\n",
    ") "
   ]
  },
  {
   "cell_type": "markdown",
   "id": "30b9a210-4f63-46e0-b61c-246c2731d718",
   "metadata": {},
   "source": [
    "### 使用混合查询方法"
   ]
  },
  {
   "cell_type": "markdown",
   "id": "08c42b43-5680-4f03-9a45-24bd031f8dbc",
   "metadata": {},
   "source": [
    "可度量的混合搜索 度量方式  \n",
    "\n",
    "混合搜索结果根据关键词组件或向量组件的权重参数。改变关键词和向量组件的相对权重，alpha 值可以做到不同比例的内容\n",
    " \n",
    "- alpha 偏向 1 是一个纯向量搜索。 \n",
    "- alpha 偏向 0 是一个纯关键词搜索。\n"
   ]
  },
  {
   "cell_type": "code",
   "execution_count": 15,
   "id": "8acf2d8d-48de-4f24-b190-c4cccebc8dfc",
   "metadata": {
    "scrolled": true
   },
   "outputs": [
    {
     "name": "stdout",
     "output_type": "stream",
     "text": [
      "The video captures a delightful scene of two scoops of vanilla ice cream on a white plate, placed on a counter. The ice cream is generously drizzled with a rich, golden caramel sauce, adding a sweet and sticky element to the dish. The plate is positioned in front of a window, which offers a glimpse of a lively park scene outside. People can be seen walking and enjoying the day, adding a sense of life and movement to the otherwise still image. The overall style of the video is simple yet appealing, focusing on the ice cream and the window view, while the background activity provides a sense of depth and context to the scene.\n",
      "static\n",
      "MetadataReturn(creation_time=None, last_update_time=None, distance=None, certainty=None, score=0.8999999761581421, explain_score='\\nHybrid (Result Set keyword,bm25) Document 12be133a-4a53-4cb6-bb4b-413980b5813b: original score 14.165811, normalized score: 0.9', is_consistent=None, rerank_score=None)\n"
     ]
    }
   ],
   "source": [
    "from weaviate.classes.query import MetadataQuery\n",
    "\n",
    "vector_names = [\"Caption\"]\n",
    "response = jeopardy.query.hybrid(\n",
    "    query=\"A Ice cream appears in front of the window, and the view outside the window is very peaceful.\",  \n",
    "    target_vector=vector_names,  # Specify the target vector for named vector collections\n",
    "    limit=1,\n",
    "    alpha=0.1,\n",
    "    query_properties=[\"caption\"],  \n",
    "    return_metadata=MetadataQuery(score=True, explain_score=True, distance=True),\n",
    ")\n",
    "\n",
    "\n",
    "\n",
    "for o in response.objects:\n",
    "    print(o.properties['caption'])\n",
    "    print(o.properties['cameraMotion'])\n",
    "    print(o.metadata)"
   ]
  },
  {
   "cell_type": "markdown",
   "id": "1fe059d4-4977-441c-baa5-7e4cdcc6d6ec",
   "metadata": {},
   "source": [
    "### 链接OpenVid_1M Collections"
   ]
  },
  {
   "cell_type": "code",
   "execution_count": 21,
   "id": "12ead254-4d2a-4a9f-b8cc-4e996bf829b9",
   "metadata": {},
   "outputs": [],
   "source": [
    "\n",
    "import transformers\n",
    "from transformers import AutoModel\n",
    "from transformers import AutoTokenizer\n",
    "late_collection = client.collections.get(\"OpenVidLateContext_jina_v2_zh\")\n",
    "\n",
    "# load model and tokenizer\n",
    "tokenizer = AutoTokenizer.from_pretrained('/mnt/ceph/develop/jiawei/model_checkpoint/jina-embeddings-v2-base-zh', trust_remote_code=True)\n",
    "model = AutoModel.from_pretrained('/mnt/ceph/develop/jiawei/model_checkpoint/jina-embeddings-v2-base-zh', trust_remote_code=True).to(device='cuda:0') "
   ]
  },
  {
   "cell_type": "markdown",
   "id": "dc791249-9a84-4ac4-8ff9-4aaaa6c8e756",
   "metadata": {},
   "source": [
    "### Example Query\n",
    "测试关于某一个食物召回结果"
   ]
  },
  {
   "cell_type": "code",
   "execution_count": 55,
   "id": "73415012-060e-4683-a459-5c37fa0f1afc",
   "metadata": {
    "scrolled": true
   },
   "outputs": [
    {
     "name": "stdout",
     "output_type": "stream",
     "text": [
      "The video captures a delightful dessert scene. A crepe, dusted with powdered sugar, is the main focus. It's generously drizzled with chocolate sauce, adding a rich, sweet touch to the dish. A scoop of vanilla ice cream is placed on top of the crepe, its creamy texture contrasting with the crispy crepe. The ice cream is also drizzled with chocolate sauce, creating a visually appealing pattern. The entire dessert is presented on a plate, which is placed on a table. The background is blurred, drawing attention to the dessert in the foreground. The overall style of the video is simple yet elegant, focusing on the dessert without any distractions.\n",
      "MetadataReturn(creation_time=None, last_update_time=None, distance=None, certainty=None, score=None, explain_score=None, is_consistent=None, rerank_score=None)\n",
      "The video shows a person holding a double-flavored ice cream cone. The ice cream is a mix of yellow and pink, suggesting two different flavors. The cone is a classic waffle cone, which is a popular choice for serving ice cream. The person is wearing a black t-shirt with the words \"I love food\" written on it, indicating their fondness for food. The background is blurred, but it appears to be an outdoor setting, possibly a street or a park. The focus of the video is on the ice cream cone, with the person and the background serving as secondary elements. The style of the video is casual and informal, capturing a simple yet enjoyable moment.\n",
      "MetadataReturn(creation_time=None, last_update_time=None, distance=None, certainty=None, score=None, explain_score=None, is_consistent=None, rerank_score=None)\n",
      "The video shows a close-up of a bowl of ice cream with three scoops, each scoop is a different flavor. The ice cream is placed on a wooden cutting board. In the background, there are three cans of Mountain Dew soda, each can is a different color: red, blue, and green. The style of the video is casual and informal, with a focus on the ice cream and the soda cans. The video is likely meant to be a simple, everyday scene, perhaps to showcase the ice cream or the soda cans. The colors in the video are bright and vibrant, with the ice cream and the soda cans being the main focal points. The wooden cutting board adds a rustic touch to the scene. The video does not contain any text or additional elements.\n",
      "MetadataReturn(creation_time=None, last_update_time=None, distance=None, certainty=None, score=None, explain_score=None, is_consistent=None, rerank_score=None)\n",
      "The video is a delightful culinary journey featuring a jar of strawberry ice cream. The first frame shows the jar, filled with creamy white ice cream speckled with red strawberry pieces, placed on a wooden table. The second frame reveals the jar being opened, with the lid removed, revealing the enticing ice cream inside. The third frame captures the moment when a spoon is inserted into the jar, scooping out a generous serving of the delicious ice cream. The entire scene is set against a backdrop of a cozy kitchen, with a potted plant adding a touch of greenery to the scene. The video is a visual treat, capturing the simple joy of indulging in a sweet treat.\n",
      "MetadataReturn(creation_time=None, last_update_time=None, distance=None, certainty=None, score=None, explain_score=None, is_consistent=None, rerank_score=None)\n",
      "The video captures a delightful dessert scene. A crepe, dusted with powdered sugar, is the main focus. It's generously drizzled with chocolate sauce, adding a rich, sweet touch to the dish. A scoop of vanilla ice cream is placed on top of the crepe, its creamy texture contrasting with the crispy crepe. The ice cream is also drizzled with chocolate sauce, creating a visually appealing pattern. The entire dessert is presented on a plate, which is placed on a table. The background is blurred, drawing attention to the dessert in the foreground. The overall style of the video is simple yet elegant, focusing on the dessert without any distractions.\n",
      "MetadataReturn(creation_time=None, last_update_time=None, distance=None, certainty=None, score=None, explain_score=None, is_consistent=None, rerank_score=None)\n",
      "The video shows a close-up of a bowl of ice cream with three scoops, each scoop is a different flavor. The ice cream is placed on a wooden cutting board. In the background, there are three cans of Mountain Dew soda, each can is a different color: red, blue, and green. The style of the video is casual and informal, with a focus on the ice cream and the soda cans. The video is likely meant to be a simple, everyday scene, perhaps to showcase the ice cream or the soda cans. The colors in the video are bright and vibrant, with the ice cream and the soda cans being the main focal points. The wooden cutting board adds a rustic touch to the scene. The video does not contain any text or additional elements.\n",
      "MetadataReturn(creation_time=None, last_update_time=None, distance=None, certainty=None, score=None, explain_score=None, is_consistent=None, rerank_score=None)\n",
      "The video is a delightful culinary journey featuring a jar of strawberry ice cream. The first frame shows the jar, filled with creamy white ice cream speckled with red strawberry pieces, placed on a wooden table. The second frame reveals the jar being opened, with the lid removed, revealing the enticing ice cream inside. The third frame captures the moment when a spoon is inserted into the jar, scooping out a generous serving of the delicious ice cream. The entire scene is set against a backdrop of a cozy kitchen, with a potted plant adding a touch of greenery to the scene. The video is a visual treat, capturing the simple joy of indulging in a sweet treat.\n",
      "MetadataReturn(creation_time=None, last_update_time=None, distance=None, certainty=None, score=None, explain_score=None, is_consistent=None, rerank_score=None)\n",
      "The video shows a person with blue nail polish holding a spoon over a bowl of food. The bowl contains a mixture of ice cream and cake, with the ice cream being white and the cake having a brown topping. The spoon is being used to scoop up the food from the bowl. The person is sitting at a wooden table, and the bowl is placed on top of the table. The table appears to be made of wood, and the person is wearing a ring on their finger. The video captures the moment of the person about to enjoy their dessert.\n",
      "MetadataReturn(creation_time=None, last_update_time=None, distance=None, certainty=None, score=None, explain_score=None, is_consistent=None, rerank_score=None)\n",
      "The video shows a person holding a double-flavored ice cream cone. The ice cream is a mix of yellow and pink, suggesting two different flavors. The cone is a classic waffle cone, which is a popular choice for serving ice cream. The person is wearing a black t-shirt with the words \"I love food\" written on it, indicating their fondness for food. The background is blurred, but it appears to be an outdoor setting, possibly a street or a park. The focus of the video is on the ice cream cone, with the person and the background serving as secondary elements. The style of the video is casual and informal, capturing a simple yet enjoyable moment.\n",
      "MetadataReturn(creation_time=None, last_update_time=None, distance=None, certainty=None, score=None, explain_score=None, is_consistent=None, rerank_score=None)\n",
      "The video shows a close-up of a bowl of ice cream with three scoops, each scoop is a different flavor. The ice cream is placed on a wooden cutting board. In the background, there are three cans of Mountain Dew soda, each can is a different color: red, blue, and green. The style of the video is casual and informal, with a focus on the ice cream and the soda cans. The video is likely meant to be a simple, everyday scene, perhaps to showcase the ice cream or the soda cans. The colors in the video are bright and vibrant, with the ice cream and the soda cans being the main focal points. The wooden cutting board adds a rustic touch to the scene. The video does not contain any text or additional elements.\n",
      "MetadataReturn(creation_time=None, last_update_time=None, distance=None, certainty=None, score=None, explain_score=None, is_consistent=None, rerank_score=None)\n",
      "The video is a delightful culinary journey featuring a jar of strawberry ice cream. The first frame shows the jar, filled with creamy white ice cream speckled with red strawberry pieces, placed on a wooden table. The second frame reveals the jar being opened, with the lid removed, revealing the enticing ice cream inside. The third frame captures the moment when a spoon is inserted into the jar, scooping out a generous serving of the delicious ice cream. The entire scene is set against a backdrop of a cozy kitchen, with a potted plant adding a touch of greenery to the scene. The video is a visual treat, capturing the simple joy of indulging in a sweet treat.\n",
      "MetadataReturn(creation_time=None, last_update_time=None, distance=None, certainty=None, score=None, explain_score=None, is_consistent=None, rerank_score=None)\n",
      "The video captures a close-up view of a delicious dessert being enjoyed. The dessert is a layered ice cream treat, with a creamy white base, a rich chocolate middle, and a crunchy chocolate topping. The ice cream is served in a tall glass, which is placed on a white plate. The plate is set on a wooden table, and a spoon is placed next to it, ready for use. The focus of the video is on the dessert, with the background blurred to keep the viewer's attention on the treat. The style of the video is simple and straightforward, focusing on the dessert and the enjoyment of the moment.\n",
      "MetadataReturn(creation_time=None, last_update_time=None, distance=None, certainty=None, score=None, explain_score=None, is_consistent=None, rerank_score=None)\n",
      "The video shows a close-up of a bowl of ice cream with caramel sauce drizzled on top, placed on a counter. The ice cream is a creamy white color, and the caramel sauce is a rich, golden brown. The bowl is white and round, and it's placed on a gray countertop. In the background, there's a window that lets in natural light, and outside the window, there are people walking by. The video is shot in a realistic style, with a focus on the ice cream and the countertop. The colors are vibrant and the lighting is bright, creating a warm and inviting atmosphere. The video is likely meant to showcase the ice cream and the caramel sauce, and it does so effectively.\n",
      "MetadataReturn(creation_time=None, last_update_time=None, distance=None, certainty=None, score=None, explain_score=None, is_consistent=None, rerank_score=None)\n",
      "The video is a stylized, animated depiction of a brain and a spoonful of ice cream. The brain, colored in shades of blue, is shown in a simplified, cartoon-like style. It has a prominent central area with a red stem and a few smaller branches extending from it. The spoonful of ice cream, which is white with a brown base, is shown in a more realistic style with a soft, creamy texture. The ice cream is placed on the right side of the image, and the spoon is angled towards the brain, suggesting a connection or interaction between the two. The background is a dark blue, which contrasts with the lighter colors of the brain and ice cream, making them stand out. The overall style of the video is playful and whimsical, with a touch of surrealism.\n",
      "MetadataReturn(creation_time=None, last_update_time=None, distance=None, certainty=None, score=None, explain_score=None, is_consistent=None, rerank_score=None)\n",
      "The video shows a person holding a cup of ice cream with a waffle cone on top. The ice cream is topped with caramel sauce and nuts. The person is sitting at a table with a burger and a fork in the background. The style of the video is casual and informal, capturing a moment of indulgence in a relaxed setting.\n",
      "MetadataReturn(creation_time=None, last_update_time=None, distance=None, certainty=None, score=None, explain_score=None, is_consistent=None, rerank_score=None)\n",
      "The video is a delightful culinary journey featuring a jar of strawberry ice cream. The first frame shows the jar, filled with creamy white ice cream speckled with red strawberry pieces, placed on a wooden table. The second frame reveals the jar being opened, with the lid removed, revealing the enticing ice cream inside. The third frame captures the moment when a spoon is inserted into the jar, scooping out a generous serving of the delicious ice cream. The entire scene is set against a backdrop of a cozy kitchen, with a potted plant adding a touch of greenery to the scene. The video is a visual treat, capturing the simple joy of indulging in a sweet treat.\n",
      "MetadataReturn(creation_time=None, last_update_time=None, distance=None, certainty=None, score=None, explain_score=None, is_consistent=None, rerank_score=None)\n",
      "The video captures a delightful dessert scene. A crepe, dusted with powdered sugar, is the main focus. It's generously drizzled with chocolate sauce, adding a rich, sweet touch to the dish. A scoop of vanilla ice cream is placed on top of the crepe, its creamy texture contrasting with the crispy crepe. The ice cream is also drizzled with chocolate sauce, creating a visually appealing pattern. The entire dessert is presented on a plate, which is placed on a table. The background is blurred, drawing attention to the dessert in the foreground. The overall style of the video is simple yet elegant, focusing on the dessert without any distractions.\n",
      "MetadataReturn(creation_time=None, last_update_time=None, distance=None, certainty=None, score=None, explain_score=None, is_consistent=None, rerank_score=None)\n",
      "In the video, a woman with red hair is seen holding a chocolate-covered ice cream bar. She is wearing sunglasses and a white tank top. The ice cream bar is held in front of her face, and she is smiling. The background is blurred, but it appears to be a park or a garden. The woman is the main focus of the video, and the ice cream bar is the object of interest. The video is likely to be a casual, fun, and light-hearted one.\n",
      "MetadataReturn(creation_time=None, last_update_time=None, distance=None, certainty=None, score=None, explain_score=None, is_consistent=None, rerank_score=None)\n",
      "In the video, a woman with red hair is seen holding a chocolate-covered ice cream bar. She is wearing sunglasses and a white tank top. The ice cream bar is held in front of her face, and she is smiling. The background is blurred, but it appears to be a park or a garden. The woman is the main focus of the video, and the ice cream bar is the object of interest. The video is likely to be a casual, fun, and light-hearted one.\n",
      "MetadataReturn(creation_time=None, last_update_time=None, distance=None, certainty=None, score=None, explain_score=None, is_consistent=None, rerank_score=None)\n",
      "In the video, a woman with blonde hair is seen holding a white ice cream cone. She is wearing earrings and appears to be enjoying her treat. The background is blurred, but it seems to be a lively outdoor setting with lights and people. The woman's expression is joyful, and she seems to be in a good mood. The video captures a simple yet delightful moment of indulgence in a bustling environment.\n",
      "MetadataReturn(creation_time=None, last_update_time=None, distance=None, certainty=None, score=None, explain_score=None, is_consistent=None, rerank_score=None)\n",
      "The video shows a close-up of a bowl of ice cream with three scoops, each scoop is a different flavor. The ice cream is placed on a wooden cutting board. In the background, there are three cans of Mountain Dew soda, each can is a different color: red, blue, and green. The style of the video is casual and informal, with a focus on the ice cream and the soda cans. The video is likely meant to be a simple, everyday scene, perhaps to showcase the ice cream or the soda cans. The colors in the video are bright and vibrant, with the ice cream and the soda cans being the main focal points. The wooden cutting board adds a rustic touch to the scene. The video does not contain any text or additional elements.\n",
      "MetadataReturn(creation_time=None, last_update_time=None, distance=None, certainty=None, score=None, explain_score=None, is_consistent=None, rerank_score=None)\n",
      "In the video, a young woman with pink hair is seen in a brightly lit kitchen with pink walls and shelves. She is holding a colorful ice cream cone in her right hand, which she is about to take a bite of. Her left hand is gently touching her chin, suggesting a moment of contemplation or enjoyment. She is wearing a blue shirt and has her hair styled in a side-swept manner. The kitchen is filled with various kitchenware items, including bowls, cups, and bottles, which are neatly arranged on the shelves. The overall style of the video is cheerful and vibrant, with a focus on the woman's enjoyment of the ice cream and the colorful kitchen setting.\n",
      "MetadataReturn(creation_time=None, last_update_time=None, distance=None, certainty=None, score=None, explain_score=None, is_consistent=None, rerank_score=None)\n",
      "In the video, two young girls are enjoying a treat together. They are seated on a wooden bench, which is situated outdoors. The girl on the left is wearing a pink dress adorned with watermelon patterns, while the girl on the right is dressed in a light blue dress. Both girls are holding ice cream cones, which they are eating with great delight. The ice cream cones are white and topped with a generous amount of soft serve ice cream. The girls are engaged in a lively conversation, adding to the overall cheerful atmosphere of the scene. The video captures a delightful moment of childhood joy and camaraderie.\n",
      "MetadataReturn(creation_time=None, last_update_time=None, distance=None, certainty=None, score=None, explain_score=None, is_consistent=None, rerank_score=None)\n",
      "The video shows a person holding a double-flavored ice cream cone. The ice cream is a mix of yellow and pink, suggesting two different flavors. The cone is a classic waffle cone, which is a popular choice for serving ice cream. The person is wearing a black t-shirt with the words \"I love food\" written on it, indicating their fondness for food. The background is blurred, but it appears to be an outdoor setting, possibly a street or a park. The focus of the video is on the ice cream cone, with the person and the background serving as secondary elements. The style of the video is casual and informal, capturing a simple yet enjoyable moment.\n",
      "MetadataReturn(creation_time=None, last_update_time=None, distance=None, certainty=None, score=None, explain_score=None, is_consistent=None, rerank_score=None)\n",
      "The video captures a close-up view of a delicious dessert being enjoyed. The dessert is a layered ice cream treat, with a creamy white base, a rich chocolate middle, and a crunchy chocolate topping. The ice cream is served in a tall glass, which is placed on a white plate. The plate is set on a wooden table, and a spoon is placed next to it, ready for use. The focus of the video is on the dessert, with the background blurred to keep the viewer's attention on the treat. The style of the video is simple and straightforward, focusing on the dessert and the enjoyment of the moment.\n",
      "MetadataReturn(creation_time=None, last_update_time=None, distance=None, certainty=None, score=None, explain_score=None, is_consistent=None, rerank_score=None)\n"
     ]
    }
   ],
   "source": [
    " \n",
    "berlin_embedding = model.encode(\"有没有有草莓味的冰激凌\")\n",
    "\n",
    "results = late_collection.query.near_vector(\n",
    "    near_vector=berlin_embedding.tolist(),\n",
    "    limit = 25\n",
    ")\n",
    "\n",
    "videos = []\n",
    "\n",
    "uuids = []\n",
    "for o in results.objects:\n",
    "    videos.append(o.properties['video'])\n",
    "    uuids.append(o.uuid)\n",
    "    print(o.properties['caption']) \n",
    "    \n",
    "    print(o.metadata)"
   ]
  },
  {
   "cell_type": "code",
   "execution_count": 56,
   "id": "5f90810a-5e20-4a0f-ba15-782a0bd13f4c",
   "metadata": {},
   "outputs": [],
   "source": [
    " \n",
    "set_1 = set(videos)"
   ]
  },
  {
   "cell_type": "code",
   "execution_count": 57,
   "id": "d0d96af2-d6c6-4629-90b7-7bbd47bd695b",
   "metadata": {},
   "outputs": [],
   "source": [
    "\n",
    "videos2 = ['6sqG1ObKfP4_29_0to221.mp4',\n",
    " 'BZhj-4k2hHI_28_0to238.mp4',\n",
    " '6sqG1ObKfP4_29_0to221.mp4',\n",
    " '3njnhFP-ul4_99_0to123.mp4',\n",
    " 'HneZ2wDm9rQ_16_51to201.mp4',\n",
    " 'AUZHZ3PH6vM_1_0to102.mp4',\n",
    " '6JTizSIQSxg_1_162to294.mp4',\n",
    " '0J_bFot0a0c_15_0to535.mp4',\n",
    " 'BZhj-4k2hHI_28_0to238.mp4',\n",
    " '3njnhFP-ul4_99_0to123.mp4',\n",
    " 'H6MW6SGP5tg_27_0to109.mp4',\n",
    " '3Znh1WmcgzQ_0_0to125.mp4',\n",
    " '0J_bFot0a0c_15_0to535.mp4',\n",
    " 'FkZd5XPDI2w_10_546to817.mp4',\n",
    " 'Dcdh6ThJ4hA_0_0to136.mp4',\n",
    " 'FkZd5XPDI2w_10_546to817.mp4',\n",
    " 'GuOEbUnGFAo_10_0to847.mp4',\n",
    " 'BZhj-4k2hHI_28_0to238.mp4',\n",
    " 'Dcdh6ThJ4hA_0_0to136.mp4',\n",
    " '3njnhFP-ul4_99_0to123.mp4',\n",
    " 'H6MW6SGP5tg_27_0to109.mp4',\n",
    " 'FkZd5XPDI2w_10_546to817.mp4',\n",
    " '3Znh1WmcgzQ_0_0to125.mp4',\n",
    " 'AUZHZ3PH6vM_1_0to102.mp4',\n",
    " '4tVq3Qvtiz4_55_163to283.mp4',\n",
    " 'GuOEbUnGFAo_10_0to847.mp4',\n",
    " 'GFqdkkxSQ0Q_1_0to105.mp4',\n",
    " '4ou92zGkVyQ_19_405to520.mp4',\n",
    " 'Hh3F-GCH7ac_3_18to218.mp4',\n",
    " '8XhDnG694q4_14_0to208.mp4',\n",
    " '8WwRkvET5jQ_46_0to114.mp4',\n",
    " 'J2Qra6J6t_c_7_0to126.mp4',\n",
    " 'Hh3F-GCH7ac_3_18to218.mp4',\n",
    " 'H6MW6SGP5tg_27_0to109.mp4',\n",
    " 'AUZHZ3PH6vM_1_0to102.mp4',\n",
    " 'Hh3F-GCH7ac_3_18to218.mp4',\n",
    " 'D7UR9Kbj3Z0_0_0to163.mp4',\n",
    " '72B-21bz1TQ_0_0to461.mp4',\n",
    " 'BZhj-4k2hHI_28_0to238.mp4',\n",
    " 'Dcdh6ThJ4hA_0_0to136.mp4',\n",
    " '3njnhFP-ul4_99_0to123.mp4',\n",
    " 'H6MW6SGP5tg_27_0to109.mp4',\n",
    " 'FkZd5XPDI2w_10_546to817.mp4',\n",
    " '3Znh1WmcgzQ_0_0to125.mp4',\n",
    " 'AUZHZ3PH6vM_1_0to102.mp4',\n",
    " '4tVq3Qvtiz4_55_163to283.mp4',\n",
    " 'GuOEbUnGFAo_10_0to847.mp4',\n",
    " 'GFqdkkxSQ0Q_1_0to105.mp4',\n",
    " '4ou92zGkVyQ_19_405to520.mp4',\n",
    " 'Hh3F-GCH7ac_3_18to218.mp4',\n",
    " '8XhDnG694q4_14_0to208.mp4',\n",
    " '8WwRkvET5jQ_46_0to114.mp4']\n",
    "\n",
    "\n",
    "set_2 = set(videos2)"
   ]
  },
  {
   "cell_type": "markdown",
   "id": "1e6ee85b-ac6a-4ebb-a020-a3c406ca1ff5",
   "metadata": {},
   "source": [
    "### 观察到数据并没有很好的分布\n",
    "按照数据统计，当存在出度入度很高的概念后，在相同数据创建的embedding中，并没有很好的适配数据任务，可能有几点，\n",
    "\n",
    "1、两个模型jina-embedding-v2-base-zh、sentence-transformers-multi-qa-MiniLM-L6-cos-v1 关注的任务并不相同。\n",
    "\n",
    "2、数据不够规模\n"
   ]
  },
  {
   "cell_type": "code",
   "execution_count": 63,
   "id": "0262b556-88e3-4297-9dde-237f442abed2",
   "metadata": {},
   "outputs": [
    {
     "name": "stdout",
     "output_type": "stream",
     "text": [
      "集合 A: {'1RWayBcihHo_41_0to131.mp4', '7fGZ8KT6HDc_30_0to530.mp4', '3njnhFP-ul4_102_0to183.mp4', '0y6s0Po7tIs_0_46to155.mp4', '0rFgYEGkiqw_24_0to134.mp4', '827Vm-y6SdY_22_0to241.mp4', '2NG51dxVSJU_20_26to162.mp4', '4xcahdAZZqc_3_101to204.mp4', '-rnQ40pX-zM_49_25to142.mp4', '2hpsJDjoses_2_0to105.mp4', '1iKK2t-HlS8_44_0to141.mp4', '55q-hYYMxEo_47_0to283.mp4', '-t3UyHPaG3k_2_0to101.mp4'}\n",
      "集合 B: {'4ou92zGkVyQ_19_405to520.mp4', 'D7UR9Kbj3Z0_0_0to163.mp4', '4tVq3Qvtiz4_55_163to283.mp4', '8XhDnG694q4_14_0to208.mp4', '6JTizSIQSxg_1_162to294.mp4', 'J2Qra6J6t_c_7_0to126.mp4', '72B-21bz1TQ_0_0to461.mp4', 'AUZHZ3PH6vM_1_0to102.mp4', 'H6MW6SGP5tg_27_0to109.mp4', 'Hh3F-GCH7ac_3_18to218.mp4', 'Dcdh6ThJ4hA_0_0to136.mp4', '0J_bFot0a0c_15_0to535.mp4', 'HneZ2wDm9rQ_16_51to201.mp4', 'FkZd5XPDI2w_10_546to817.mp4', 'GFqdkkxSQ0Q_1_0to105.mp4', 'GuOEbUnGFAo_10_0to847.mp4', '8WwRkvET5jQ_46_0to114.mp4', 'BZhj-4k2hHI_28_0to238.mp4', '3njnhFP-ul4_99_0to123.mp4', '6sqG1ObKfP4_29_0to221.mp4', '3Znh1WmcgzQ_0_0to125.mp4'}\n",
      "A 和 B 的并集: {'3njnhFP-ul4_102_0to183.mp4', '4ou92zGkVyQ_19_405to520.mp4', 'D7UR9Kbj3Z0_0_0to163.mp4', '4tVq3Qvtiz4_55_163to283.mp4', '-rnQ40pX-zM_49_25to142.mp4', '1iKK2t-HlS8_44_0to141.mp4', '55q-hYYMxEo_47_0to283.mp4', '7fGZ8KT6HDc_30_0to530.mp4', '0y6s0Po7tIs_0_46to155.mp4', '8XhDnG694q4_14_0to208.mp4', '6JTizSIQSxg_1_162to294.mp4', 'J2Qra6J6t_c_7_0to126.mp4', '72B-21bz1TQ_0_0to461.mp4', 'AUZHZ3PH6vM_1_0to102.mp4', 'H6MW6SGP5tg_27_0to109.mp4', 'Hh3F-GCH7ac_3_18to218.mp4', 'Dcdh6ThJ4hA_0_0to136.mp4', '4xcahdAZZqc_3_101to204.mp4', '0J_bFot0a0c_15_0to535.mp4', '-t3UyHPaG3k_2_0to101.mp4', 'HneZ2wDm9rQ_16_51to201.mp4', 'FkZd5XPDI2w_10_546to817.mp4', '0rFgYEGkiqw_24_0to134.mp4', 'GFqdkkxSQ0Q_1_0to105.mp4', '827Vm-y6SdY_22_0to241.mp4', 'GuOEbUnGFAo_10_0to847.mp4', '8WwRkvET5jQ_46_0to114.mp4', 'BZhj-4k2hHI_28_0to238.mp4', '1RWayBcihHo_41_0to131.mp4', '3njnhFP-ul4_99_0to123.mp4', '2NG51dxVSJU_20_26to162.mp4', '6sqG1ObKfP4_29_0to221.mp4', '2hpsJDjoses_2_0to105.mp4', '3Znh1WmcgzQ_0_0to125.mp4'}\n",
      "A 和 B 的交集: set()\n"
     ]
    }
   ],
   "source": [
    "\n",
    "# 计算并集\n",
    "union_set = set_1.union(set_2)\n",
    "\n",
    "intersection_set = set_1.intersection(set_2)\n",
    "# 输出结果\n",
    "print(\"集合 A:\", set_1)\n",
    "print(\"集合 B:\", set_2)\n",
    "print(\"A 和 B 的并集:\", union_set)\n",
    "print(\"A 和 B 的交集:\", intersection_set)"
   ]
  },
  {
   "cell_type": "markdown",
   "id": "508e709f-a16a-4093-ac44-7edb1e97af71",
   "metadata": {},
   "source": [
    "### 检查交集的数据"
   ]
  },
  {
   "cell_type": "code",
   "execution_count": 82,
   "id": "529a10d6-b0e6-4f99-8b12-dc77169bc08e",
   "metadata": {
    "scrolled": true
   },
   "outputs": [],
   "source": [
    "jeopardy = client.collections.get(\"OpenVid_1M\")\n",
    "response = jeopardy.query.fetch_objects(\n",
    "    filters=Filter.by_property(\"video\").contains_any(list(union_set)), \n",
    ") \n",
    "\n",
    "documents = [] \n",
    "uuids = []\n",
    "for o in results.objects:\n",
    "    if o.properties['caption'] not in documents:\n",
    "            \n",
    "        documents.append(o.properties['caption']) "
   ]
  },
  {
   "cell_type": "code",
   "execution_count": 75,
   "id": "cd12bd84-e419-43b6-a3df-4c2b90f73ec7",
   "metadata": {},
   "outputs": [],
   "source": [
    "from sentence_transformers import CrossEncoder\n",
    "\n",
    "model = CrossEncoder(\n",
    "    \"/mnt/ceph/develop/jiawei/model_checkpoint/jina-reranker-v2-base-multilingual\",\n",
    "    automodel_args={\"torch_dtype\": \"auto\"},\n",
    "    trust_remote_code=True,\n",
    ")\n"
   ]
  },
  {
   "cell_type": "code",
   "execution_count": 83,
   "id": "a5f0e734-4734-45a5-9077-d763498d0bdf",
   "metadata": {},
   "outputs": [
    {
     "data": {
      "text/plain": [
       "[0.10498046875,\n",
       " 0.083984375,\n",
       " 0.0673828125,\n",
       " 0.23828125,\n",
       " 0.040771484375,\n",
       " 0.103515625,\n",
       " 0.061767578125,\n",
       " 0.046142578125,\n",
       " 0.054931640625,\n",
       " 0.040771484375,\n",
       " 0.052734375,\n",
       " 0.040771484375,\n",
       " 0.0888671875]"
      ]
     },
     "execution_count": 83,
     "metadata": {},
     "output_type": "execute_result"
    }
   ],
   "source": [
    "\n",
    "\n",
    "# Example query and documents\n",
    "query = \"有没有有草莓味的冰激凌\"\n",
    " \n",
    "# construct sentence pairs\n",
    "sentence_pairs = [[query, doc] for doc in documents]\n",
    "\n",
    "scores = model.predict(sentence_pairs, convert_to_tensor=True).tolist()\n",
    " \n",
    "scores"
   ]
  },
  {
   "cell_type": "code",
   "execution_count": 84,
   "id": "9d486978-4bc3-4294-aa7c-e9d557c3bec1",
   "metadata": {},
   "outputs": [
    {
     "name": "stdout",
     "output_type": "stream",
     "text": [
      "Query: 有没有有草莓味的冰激凌\n",
      "ID: 3, Score: 0.2383, Text: The video is a delightful culinary journey featuring a jar of strawberry ice cream. The first frame shows the jar, filled with creamy white ice cream speckled with red strawberry pieces, placed on a wooden table. The second frame reveals the jar being opened, with the lid removed, revealing the enticing ice cream inside. The third frame captures the moment when a spoon is inserted into the jar, scooping out a generous serving of the delicious ice cream. The entire scene is set against a backdrop of a cozy kitchen, with a potted plant adding a touch of greenery to the scene. The video is a visual treat, capturing the simple joy of indulging in a sweet treat.\n",
      "ID: 0, Score: 0.1050, Text: The video captures a delightful dessert scene. A crepe, dusted with powdered sugar, is the main focus. It's generously drizzled with chocolate sauce, adding a rich, sweet touch to the dish. A scoop of vanilla ice cream is placed on top of the crepe, its creamy texture contrasting with the crispy crepe. The ice cream is also drizzled with chocolate sauce, creating a visually appealing pattern. The entire dessert is presented on a plate, which is placed on a table. The background is blurred, drawing attention to the dessert in the foreground. The overall style of the video is simple yet elegant, focusing on the dessert without any distractions.\n",
      "ID: 5, Score: 0.1035, Text: The video captures a close-up view of a delicious dessert being enjoyed. The dessert is a layered ice cream treat, with a creamy white base, a rich chocolate middle, and a crunchy chocolate topping. The ice cream is served in a tall glass, which is placed on a white plate. The plate is set on a wooden table, and a spoon is placed next to it, ready for use. The focus of the video is on the dessert, with the background blurred to keep the viewer's attention on the treat. The style of the video is simple and straightforward, focusing on the dessert and the enjoyment of the moment.\n",
      "ID: 12, Score: 0.0889, Text: In the video, two young girls are enjoying a treat together. They are seated on a wooden bench, which is situated outdoors. The girl on the left is wearing a pink dress adorned with watermelon patterns, while the girl on the right is dressed in a light blue dress. Both girls are holding ice cream cones, which they are eating with great delight. The ice cream cones are white and topped with a generous amount of soft serve ice cream. The girls are engaged in a lively conversation, adding to the overall cheerful atmosphere of the scene. The video captures a delightful moment of childhood joy and camaraderie.\n",
      "ID: 1, Score: 0.0840, Text: The video shows a person holding a double-flavored ice cream cone. The ice cream is a mix of yellow and pink, suggesting two different flavors. The cone is a classic waffle cone, which is a popular choice for serving ice cream. The person is wearing a black t-shirt with the words \"I love food\" written on it, indicating their fondness for food. The background is blurred, but it appears to be an outdoor setting, possibly a street or a park. The focus of the video is on the ice cream cone, with the person and the background serving as secondary elements. The style of the video is casual and informal, capturing a simple yet enjoyable moment.\n",
      "ID: 2, Score: 0.0674, Text: The video shows a close-up of a bowl of ice cream with three scoops, each scoop is a different flavor. The ice cream is placed on a wooden cutting board. In the background, there are three cans of Mountain Dew soda, each can is a different color: red, blue, and green. The style of the video is casual and informal, with a focus on the ice cream and the soda cans. The video is likely meant to be a simple, everyday scene, perhaps to showcase the ice cream or the soda cans. The colors in the video are bright and vibrant, with the ice cream and the soda cans being the main focal points. The wooden cutting board adds a rustic touch to the scene. The video does not contain any text or additional elements.\n",
      "ID: 6, Score: 0.0618, Text: The video shows a close-up of a bowl of ice cream with caramel sauce drizzled on top, placed on a counter. The ice cream is a creamy white color, and the caramel sauce is a rich, golden brown. The bowl is white and round, and it's placed on a gray countertop. In the background, there's a window that lets in natural light, and outside the window, there are people walking by. The video is shot in a realistic style, with a focus on the ice cream and the countertop. The colors are vibrant and the lighting is bright, creating a warm and inviting atmosphere. The video is likely meant to showcase the ice cream and the caramel sauce, and it does so effectively.\n",
      "ID: 8, Score: 0.0549, Text: The video shows a person holding a cup of ice cream with a waffle cone on top. The ice cream is topped with caramel sauce and nuts. The person is sitting at a table with a burger and a fork in the background. The style of the video is casual and informal, capturing a moment of indulgence in a relaxed setting.\n",
      "ID: 10, Score: 0.0527, Text: In the video, a woman with blonde hair is seen holding a white ice cream cone. She is wearing earrings and appears to be enjoying her treat. The background is blurred, but it seems to be a lively outdoor setting with lights and people. The woman's expression is joyful, and she seems to be in a good mood. The video captures a simple yet delightful moment of indulgence in a bustling environment.\n",
      "ID: 7, Score: 0.0461, Text: The video is a stylized, animated depiction of a brain and a spoonful of ice cream. The brain, colored in shades of blue, is shown in a simplified, cartoon-like style. It has a prominent central area with a red stem and a few smaller branches extending from it. The spoonful of ice cream, which is white with a brown base, is shown in a more realistic style with a soft, creamy texture. The ice cream is placed on the right side of the image, and the spoon is angled towards the brain, suggesting a connection or interaction between the two. The background is a dark blue, which contrasts with the lighter colors of the brain and ice cream, making them stand out. The overall style of the video is playful and whimsical, with a touch of surrealism.\n",
      "ID: 4, Score: 0.0408, Text: The video shows a person with blue nail polish holding a spoon over a bowl of food. The bowl contains a mixture of ice cream and cake, with the ice cream being white and the cake having a brown topping. The spoon is being used to scoop up the food from the bowl. The person is sitting at a wooden table, and the bowl is placed on top of the table. The table appears to be made of wood, and the person is wearing a ring on their finger. The video captures the moment of the person about to enjoy their dessert.\n",
      "ID: 9, Score: 0.0408, Text: In the video, a woman with red hair is seen holding a chocolate-covered ice cream bar. She is wearing sunglasses and a white tank top. The ice cream bar is held in front of her face, and she is smiling. The background is blurred, but it appears to be a park or a garden. The woman is the main focus of the video, and the ice cream bar is the object of interest. The video is likely to be a casual, fun, and light-hearted one.\n",
      "ID: 11, Score: 0.0408, Text: In the video, a young woman with pink hair is seen in a brightly lit kitchen with pink walls and shelves. She is holding a colorful ice cream cone in her right hand, which she is about to take a bite of. Her left hand is gently touching her chin, suggesting a moment of contemplation or enjoyment. She is wearing a blue shirt and has her hair styled in a side-swept manner. The kitchen is filled with various kitchenware items, including bowls, cups, and bottles, which are neatly arranged on the shelves. The overall style of the video is cheerful and vibrant, with a focus on the woman's enjoyment of the ice cream and the colorful kitchen setting.\n"
     ]
    }
   ],
   "source": [
    "\n",
    "rankings = model.rank(query, documents, return_documents=True, convert_to_tensor=True)\n",
    "print(f\"Query: {query}\")\n",
    "for ranking in rankings:\n",
    "    print(f\"ID: {ranking['corpus_id']}, Score: {ranking['score']:.4f}, Text: {ranking['text']}\")\n"
   ]
  },
  {
   "cell_type": "code",
   "execution_count": null,
   "id": "21a8214d-2e25-4e41-a85a-f41748ff4dda",
   "metadata": {},
   "outputs": [],
   "source": []
  }
 ],
 "metadata": {
  "kernelspec": {
   "display_name": "Python [conda env:weaviate_client] *",
   "language": "python",
   "name": "conda-env-weaviate_client-py"
  },
  "language_info": {
   "codemirror_mode": {
    "name": "ipython",
    "version": 3
   },
   "file_extension": ".py",
   "mimetype": "text/x-python",
   "name": "python",
   "nbconvert_exporter": "python",
   "pygments_lexer": "ipython3",
   "version": "3.10.16"
  }
 },
 "nbformat": 4,
 "nbformat_minor": 5
}
