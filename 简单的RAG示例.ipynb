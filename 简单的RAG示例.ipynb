{
 "cells": [
  {
   "cell_type": "code",
   "execution_count": 6,
   "id": "93240e6f-375b-4a60-85c2-75c21445b578",
   "metadata": {},
   "outputs": [],
   "source": [
    "import weaviate\n",
    "from weaviate.classes.init import Auth"
   ]
  },
  {
   "cell_type": "code",
   "execution_count": 7,
   "id": "8af2d29c-fc9c-41fe-b2d1-e204316857e3",
   "metadata": {
    "scrolled": true
   },
   "outputs": [
    {
     "name": "stdout",
     "output_type": "stream",
     "text": [
      "True\n"
     ]
    }
   ],
   "source": [
    "import weaviate\n",
    "from weaviate.classes.init import AdditionalConfig, Timeout\n",
    "\n",
    "headers = {\n",
    "    \"X-Zhipuai-Api-Key\": '4d6c5f8ad43b8fff94480b95a5a6c5d0.ouFQYxQ8pIVKO7J8'\n",
    "}\n",
    "client = weaviate.connect_to_local(\n",
    "    headers=headers,\n",
    "    additional_config=AdditionalConfig(\n",
    "        timeout=Timeout(init=30, query=120, insert=120)  # Values in seconds\n",
    "    )\n",
    ")\n",
    "\n",
    "print(client.is_ready())"
   ]
  },
  {
   "cell_type": "code",
   "execution_count": 8,
   "id": "cf657a4e-56a1-4304-a308-90013d4d9858",
   "metadata": {},
   "outputs": [],
   "source": [
    "\n",
    "jeopardy = client.collections.get(\"OpenVid_1M\")"
   ]
  },
  {
   "cell_type": "code",
   "execution_count": 9,
   "id": "e7106ddc-989a-4994-9094-db977a0901a7",
   "metadata": {
    "scrolled": true
   },
   "outputs": [
    {
     "name": "stdout",
     "output_type": "stream",
     "text": [
      "42e2c8e2-39b6-425c-82ec-b951c37734f8\n",
      "{'frame': 1215.0, 'fPS': 25.0, 'aestheticScore': 5.7324934005737305, 'cameraMotion': 'static', 'seconds': 48.6, 'temporalConsistencyScore': 0.9944661458333334, 'caption': 'The video features a man with a beard and a tired expression, sitting in front of a heart-shaped mirror. He is wearing a dark jacket and appears to be in a room with a window in the background. The man is speaking, and the text overlay on the video reads, \"\\'I\\'m trying to drink less coffee\\' coffee = uncountable.\" The style of the video is casual and informal, with a focus on the man\\'s statement about coffee. The heart-shaped mirror adds a touch of whimsy to the scene.', 'video': '7MQLUVYAiOE_7_0to1215.mp4', 'motionScore': 2.565125703811645}\n",
      "None 0.8750455975532532 None\n",
      "这段视频描绘了一位留着胡须、面带疲惫表情的男子，坐在一个心形镜子前。他身着深色夹克，背后似乎是一间有窗户的房间。男子正在说话，而视频上的文字叠加显示：“我正在尝试少喝咖啡”咖啡=不可数名词。视频风格休闲随意，聚焦于男子关于咖啡的陈述。而心形的镜子为画面增添了一丝俏皮与趣味。\n",
      "7f12ee0e-9d1c-41f0-bbfb-b627f70c4208\n",
      "{'fPS': 29.97, 'seconds': 4.704704704704705, 'aestheticScore': 5.815889358520508, 'cameraMotion': 'zoom_in', 'caption': \"The video shows the interior of a car, specifically focusing on the driver's side. The car appears to be a sports or racing model, as indicated by the presence of a racing steering wheel and a roll bar. The interior is predominantly black, with the seats and door panels featuring a combination of black and yellow colors. The seats are designed for racing, with a high backrest and side bolsters for support. The roll bar is a prominent feature, suggesting that the car is equipped for safety in high-speed or competitive situations. The car's door is open, revealing the interior and providing a clear view of the driver's side. The car is parked outdoors, as evidenced by the natural light and the presence of trees in the background. The style of the video is straightforward and documentary, with no additional embellishments or effects. The focus is solely on the car's interior, providing a detailed view of the features and design elements.\", 'frame': 141.0, 'temporalConsistencyScore': 0.9978190104166668, 'video': '-IF50KgMQ3A_30_0to141.mp4', 'motionScore': 3.590202808380127}\n",
      "None 0.8750455975532532 None\n",
      "这段视频展示了汽车的内部，特别聚焦于驾驶侧。这辆车看起来是一款运动型或赛车，这从它装备的赛车方向盘和防滚架可以明显看出。内饰以黑色为主调，座椅和门板上搭配了黑色与黄色的色彩组合。座椅专为赛车设计，高背和两侧的支撑垫提供了极佳的包裹性。醒目的防滚架表明这辆车在高速或竞技场合下注重安全性。车门敞开，清晰地展示了车内构造，让人一览驾驶侧的全貌。车辆停放在户外，背景中透进的天然光线和树木便是明证。视频的风格直接而具记录性质，没有额外的装饰或特效，专注于展现汽车内饰的每一个细节和设计元素，让人仿佛身临其境。\n",
      "48ab210d-9bd0-458c-923a-0d509a9c2e9e\n",
      "{'frame': 172.0, 'seconds': 5.739072405739073, 'aestheticScore': 6.107945919036865, 'cameraMotion': 'pan_left', 'fPS': 29.97, 'temporalConsistencyScore': 0.9980143229166668, 'motionScore': 3.7536935806274414, 'video': '-IEUq46tFmE_52_0to172.mp4', 'caption': \"The video is a 3D animated depiction of a yellow fish swimming in a green underwater environment. The fish has a long, slender body with a pointed nose and a long tail. The fish is shown in three different positions, moving from the left to the right side of the screen. The background is a deep green, suggesting a depth of water. The style of the animation is realistic, with attention to detail in the fish's scales and the movement of the water around it. The video does not contain any text or additional objects.\"}\n",
      "None 0.8750455975532532 None\n",
      "这段视频展现了一幅三维动画画面，描绘了一条黄色的鱼在充满生机的绿色水下世界中畅游。这条鱼拥有修长而灵动的身躯，尖尖的吻部和长长的尾巴。画面中，这条鱼以三种不同的姿态游弋，从屏幕左侧向右侧轻盈地穿行。背景是一片深邃的绿色，仿佛映射出深水的神秘与宁静。动画风格力求写实，对鱼鳞的细节以及周遭水流的动态都刻画得入微。整个视频没有文字或其它物体的干扰，让人完全沉浸在这条鱼优雅游动的美妙世界中。\n"
     ]
    }
   ],
   "source": [
    "from weaviate.classes.query import MetadataQuery, Rerank\n",
    "prompt = \"描述下这个文本：{caption}，让它们变得更加生动，使用中文，.\"\n",
    " \n",
    "response = jeopardy.generate.near_text(\n",
    "\n",
    "    query=\"static\",  \n",
    "    limit=3,\n",
    "    target_vector='CameraMotion',   \n",
    "    return_metadata=MetadataQuery(distance=True),\n",
    "    single_prompt=prompt\n",
    ")\n",
    "\n",
    "for o in response.objects:\n",
    "    print(o.uuid)\n",
    "    print(o.properties)  \n",
    "    print(o.metadata.score, o.metadata.distance, o.metadata.explain_score)\n",
    "    print(o.generated)"
   ]
  },
  {
   "cell_type": "code",
   "execution_count": 10,
   "id": "56d1c747-f3fc-494a-a35c-933887e70b65",
   "metadata": {
    "scrolled": true
   },
   "outputs": [
    {
     "name": "stdout",
     "output_type": "stream",
     "text": [
      "130b226d-8e15-44d6-9eb0-974aa9248113\n",
      "{'temporalConsistencyScore': 0.99599609375, 'caption': 'The video is a humorous and lighthearted presentation about unique food. It features a man wearing a green elf hat, which adds a playful and festive touch to the video. The man is dressed in a red shirt, which contrasts with the green of the hat, creating a visually appealing color scheme. The background is a simple gray, which puts the focus on the man and the text. The text, which reads \"Most Unique Food\", is in a bold, green font that matches the color of the elf hat, reinforcing the theme of the video. The man appears to be speaking, suggesting that he is presenting or discussing the topic of unique food. The overall style of the video is casual and fun, with a clear focus on the topic of unique food.', 'cameraMotion': 'static', 'aestheticScore': 5.966603755950928, 'fPS': 29.97, 'frame': 96.0, 'seconds': 3.2032032032032034, 'video': '0mmAHrAH7Ws_23_131to248.mp4', 'motionScore': 2.086344003677368}\n",
      "0.9054023623466492 None \n",
      "Hybrid (Result Set keyword,bm25) Document 130b226d-8e15-44d6-9eb0-974aa9248113: original score 1.7951145, normalized score: 0.005402399 - \n",
      "Hybrid (Result Set vector,hybridVector) Document 130b226d-8e15-44d6-9eb0-974aa9248113: original score -0.028842092, normalized score: 0.9\n",
      "这段文本描述了一个关于独特食物的幽默轻松的视频。视频的特色是一个男人戴着绿色的精灵帽，给视频增添了一种活泼和节日的氛围。男人穿着红色的衬衫，与帽子的绿色形成鲜明对比，创造了一个视觉上吸引人的色彩搭配。背景是简单的灰色，这使观众的注意力集中在了男人和文本上。文本写着“最独特的食物”，使用了一种大胆的绿色字体，与精灵帽的颜色相匹配，强调了视频的主题。\n",
      "\n",
      "至于\"FNI6SDA\"，在这段描述中并没有直接提到它是什么，也没有明确说明它与食物有何关系。从上下文来看，\"FNI6SDA\"可能是一个随机的字符串，或许是一个错误的信息，或者是视频中的某个特定元素，比如标签、代码或者是一个品牌名，但没有足够的信息来确定它的确切含义或与食物的联系。如果它是视频中的一部分，那么可能是用来增加幽默感或者是作为某种形式的创意标识，但这完全取决于视频内容的上下文。\n"
     ]
    }
   ],
   "source": [
    "from weaviate.classes.query import MetadataQuery, Rerank\n",
    "\n",
    "prompt = \"描述下这个文本：{caption}，FNI6SDA是什么，跟食物有什么关系.\"\n",
    " \n",
    "vector_names = [\"Caption\"]\n",
    "response = jeopardy.generate.hybrid(\n",
    "  query=\"static food\",  \n",
    "    target_vector=vector_names,  # Specify the target vector for named vector collections\n",
    "    limit=1,\n",
    "    alpha=0.9, \n",
    "    rerank=Rerank(\n",
    "        prop=\"caption\",\n",
    "        query=\"food, room\"\n",
    "    ),\n",
    "    return_metadata=MetadataQuery(distance=True, explain_score=True,score=True),\n",
    "    single_prompt=prompt\n",
    ")\n",
    "\n",
    "for o in response.objects:\n",
    "    print(o.uuid)\n",
    "    print(o.properties)  \n",
    "    print(o.metadata.score, o.metadata.distance, o.metadata.explain_score)\n",
    "    print(o.generated)"
   ]
  },
  {
   "cell_type": "code",
   "execution_count": null,
   "id": "6619d345-aab9-4026-bb02-654dcf9a1595",
   "metadata": {},
   "outputs": [],
   "source": []
  },
  {
   "cell_type": "code",
   "execution_count": null,
   "id": "4777c1dc-5e50-4f5b-9af1-739ea93d6e96",
   "metadata": {},
   "outputs": [],
   "source": []
  }
 ],
 "metadata": {
  "kernelspec": {
   "display_name": "Python 3 (ipykernel)",
   "language": "python",
   "name": "python3"
  },
  "language_info": {
   "codemirror_mode": {
    "name": "ipython",
    "version": 3
   },
   "file_extension": ".py",
   "mimetype": "text/x-python",
   "name": "python",
   "nbconvert_exporter": "python",
   "pygments_lexer": "ipython3",
   "version": "3.10.15"
  }
 },
 "nbformat": 4,
 "nbformat_minor": 5
}
