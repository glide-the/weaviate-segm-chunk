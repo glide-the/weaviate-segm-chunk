{
 "cells": [
  {
   "cell_type": "code",
   "execution_count": 1,
   "id": "ed598937-8e8d-4b11-9a2a-b924c0a105e7",
   "metadata": {
    "scrolled": true
   },
   "outputs": [
    {
     "name": "stderr",
     "output_type": "stream",
     "text": [
      "D:\\project\\weaviate-python-client\\weaviate\\warnings.py:133: DeprecationWarning: Dep005: You are using weaviate-client version 0.1.dev3117+gae1bb03.d20241220. The latest version is 4.10.2.\n",
      "            Consider upgrading to the latest version. See https://weaviate.io/developers/weaviate/client-libraries/python for details.\n",
      "  warnings.warn(\n"
     ]
    }
   ],
   "source": [
    "import weaviate\n",
    "\n",
    "client = weaviate.connect_to_local()"
   ]
  },
  {
   "cell_type": "code",
   "execution_count": 3,
   "id": "0c789e68-4d09-4d6e-a133-5f388ad2be12",
   "metadata": {},
   "outputs": [
    {
     "name": "stdout",
     "output_type": "stream",
     "text": [
      "error=None status=<BackupStatus.SUCCESS: 'SUCCESS'> path='/var/lib/backups/openvid_1m-backup-2024_12_20' backup_id='openvid_1m-backup-2024_12_20' collections=['OpenVid_1M']\n"
     ]
    }
   ],
   "source": [
    "\n",
    "\n",
    "result = client.backup.create(\n",
    "    backup_id=\"OpenVid_1M-backup-2024_12_20\",\n",
    "    backend=\"filesystem\",\n",
    "    include_collections=[\"OpenVid_1M\"],\n",
    "    wait_for_completion=True,\n",
    ")\n",
    "\n",
    "print(result)"
   ]
  },
  {
   "cell_type": "code",
   "execution_count": 2,
   "id": "37c16a1d-c07d-4a75-a972-baf2233c5533",
   "metadata": {},
   "outputs": [
    {
     "name": "stdout",
     "output_type": "stream",
     "text": [
      "error=None status=<BackupStatus.SUCCESS: 'SUCCESS'> path='/var/lib/backups/openvid_1m-backup' backup_id='openvid_1m-backup'\n"
     ]
    }
   ],
   "source": [
    " \n",
    "result = client.backup.get_create_status(\n",
    "\n",
    "    backup_id=\"OpenVid_1M-backup\",\n",
    "    backend=\"filesystem\",\n",
    ")\n",
    "\n",
    "print(result)"
   ]
  },
  {
   "cell_type": "code",
   "execution_count": 6,
   "id": "5ad07253-a531-4d46-83e8-b173115589f5",
   "metadata": {},
   "outputs": [
    {
     "name": "stdout",
     "output_type": "stream",
     "text": [
      "error=None status=<BackupStatus.SUCCESS: 'SUCCESS'> path='/var/lib/backups/openvid_1m-backup' backup_id='openvid_1m-backup' collections=['OpenVid_1M']\n"
     ]
    }
   ],
   "source": [
    "\n",
    "result = client.backup.restore(\n",
    "    backup_id=\"OpenVid_1M-backup\",\n",
    "    backend=\"filesystem\", \n",
    "    wait_for_completion=True,\n",
    ")\n",
    "\n",
    "print(result)"
   ]
  },
  {
   "cell_type": "code",
   "execution_count": 4,
   "id": "3ae3b1d2-f653-425b-a2ed-04e0063b6aa4",
   "metadata": {},
   "outputs": [
    {
     "name": "stdout",
     "output_type": "stream",
     "text": [
      "error=None status=<BackupStatus.SUCCESS: 'SUCCESS'> path='/var/lib/backups/openvidcontext-backup-2024_12_20' backup_id='openvidcontext-backup-2024_12_20' collections=['OpenVidContext']\n"
     ]
    }
   ],
   "source": [
    "\n",
    "\n",
    "result = client.backup.create(\n",
    "    backup_id=\"OpenVidContext-backup-2024_12_20\",\n",
    "    backend=\"filesystem\",\n",
    "    include_collections=[\"OpenVidContext\"],\n",
    "    wait_for_completion=True,\n",
    ")\n",
    "\n",
    "print(result)"
   ]
  },
  {
   "cell_type": "code",
   "execution_count": 6,
   "id": "d97635b8-5954-46db-99d9-8609b01951a5",
   "metadata": {},
   "outputs": [
    {
     "name": "stdout",
     "output_type": "stream",
     "text": [
      "error=None status=<BackupStatus.SUCCESS: 'SUCCESS'> path='/var/lib/backups/openvidcontext-backup' backup_id='openvidcontext-backup'\n"
     ]
    }
   ],
   "source": [
    " \n",
    "result = client.backup.get_create_status(\n",
    "\n",
    "    backup_id=\"OpenVidContext-backup\",\n",
    "    backend=\"filesystem\",\n",
    ")\n",
    "\n",
    "print(result)"
   ]
  },
  {
   "cell_type": "code",
   "execution_count": 7,
   "id": "4920f9d3-82e8-4c54-bdf1-55296f375593",
   "metadata": {},
   "outputs": [
    {
     "name": "stdout",
     "output_type": "stream",
     "text": [
      "error=None status=<BackupStatus.SUCCESS: 'SUCCESS'> path='/var/lib/backups/openvidcontext-backup' backup_id='openvidcontext-backup' collections=['OpenVidContext']\n"
     ]
    }
   ],
   "source": [
    "\n",
    "result = client.backup.restore(\n",
    "    backup_id=\"OpenVidContext-backup\",\n",
    "    backend=\"filesystem\", \n",
    "    wait_for_completion=True,\n",
    ")\n",
    "\n",
    "print(result)"
   ]
  },
  {
   "cell_type": "code",
   "execution_count": null,
   "id": "74970b9b-b23f-404c-8da8-f442d8809ec4",
   "metadata": {},
   "outputs": [],
   "source": []
  }
 ],
 "metadata": {
  "kernelspec": {
   "display_name": "Python 3 (ipykernel)",
   "language": "python",
   "name": "python3"
  },
  "language_info": {
   "codemirror_mode": {
    "name": "ipython",
    "version": 3
   },
   "file_extension": ".py",
   "mimetype": "text/x-python",
   "name": "python",
   "nbconvert_exporter": "python",
   "pygments_lexer": "ipython3",
   "version": "3.10.15"
  }
 },
 "nbformat": 4,
 "nbformat_minor": 5
}
