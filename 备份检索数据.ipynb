{
 "cells": [
  {
   "cell_type": "code",
   "execution_count": 2,
   "id": "ed598937-8e8d-4b11-9a2a-b924c0a105e7",
   "metadata": {
    "scrolled": true
   },
   "outputs": [
    {
     "name": "stderr",
     "output_type": "stream",
     "text": [
      "/mnt/ceph/develop/jiawei/weaviate-python-client/weaviate/warnings.py:133: DeprecationWarning: Dep005: You are using weaviate-client version 0.1.dev3117+gae1bb03. The latest version is 4.10.2.\n",
      "            Consider upgrading to the latest version. See https://weaviate.io/developers/weaviate/client-libraries/python for details.\n",
      "  warnings.warn(\n"
     ]
    }
   ],
   "source": [
    "import weaviate\n",
    "\n",
    "client = weaviate.connect_to_local()"
   ]
  },
  {
   "cell_type": "code",
   "execution_count": 3,
   "id": "0c789e68-4d09-4d6e-a133-5f388ad2be12",
   "metadata": {},
   "outputs": [
    {
     "name": "stdout",
     "output_type": "stream",
     "text": [
      "error=None status=<BackupStatus.SUCCESS: 'SUCCESS'> path='/var/lib/backups/openvid_1m-backup-2024_12_20' backup_id='openvid_1m-backup-2024_12_20' collections=['OpenVid_1M']\n"
     ]
    }
   ],
   "source": [
    "\n",
    "\n",
    "result = client.backup.create(\n",
    "    backup_id=\"OpenVid_1M-backup-2024_12_20\",\n",
    "    backend=\"filesystem\",\n",
    "    include_collections=[\"OpenVid_1M\"],\n",
    "    wait_for_completion=True,\n",
    ")\n",
    "\n",
    "print(result)"
   ]
  },
  {
   "cell_type": "code",
   "execution_count": 2,
   "id": "37c16a1d-c07d-4a75-a972-baf2233c5533",
   "metadata": {},
   "outputs": [
    {
     "name": "stdout",
     "output_type": "stream",
     "text": [
      "error=None status=<BackupStatus.SUCCESS: 'SUCCESS'> path='/var/lib/backups/openvid_1m-backup' backup_id='openvid_1m-backup'\n"
     ]
    }
   ],
   "source": [
    " \n",
    "result = client.backup.get_create_status(\n",
    "\n",
    "    backup_id=\"OpenVid_1M-backup\",\n",
    "    backend=\"filesystem\",\n",
    ")\n",
    "\n",
    "print(result)"
   ]
  },
  {
   "cell_type": "code",
   "execution_count": 6,
   "id": "5ad07253-a531-4d46-83e8-b173115589f5",
   "metadata": {},
   "outputs": [
    {
     "name": "stdout",
     "output_type": "stream",
     "text": [
      "error=None status=<BackupStatus.SUCCESS: 'SUCCESS'> path='/var/lib/backups/openvid_1m-backup' backup_id='openvid_1m-backup' collections=['OpenVid_1M']\n"
     ]
    }
   ],
   "source": [
    "\n",
    "result = client.backup.restore(\n",
    "    backup_id=\"OpenVid_1M-backup\",\n",
    "    backend=\"filesystem\", \n",
    "    wait_for_completion=True,\n",
    ")\n",
    "\n",
    "print(result)"
   ]
  },
  {
   "cell_type": "code",
   "execution_count": 4,
   "id": "3ae3b1d2-f653-425b-a2ed-04e0063b6aa4",
   "metadata": {},
   "outputs": [
    {
     "name": "stdout",
     "output_type": "stream",
     "text": [
      "error=None status=<BackupStatus.SUCCESS: 'SUCCESS'> path='/var/lib/backups/openvidcontext-backup-2024_12_20' backup_id='openvidcontext-backup-2024_12_20' collections=['OpenVidContext']\n"
     ]
    }
   ],
   "source": [
    "\n",
    "\n",
    "result = client.backup.create(\n",
    "    backup_id=\"OpenVidContext-backup-2024_12_20\",\n",
    "    backend=\"filesystem\",\n",
    "    include_collections=[\"OpenVidContext\"],\n",
    "    wait_for_completion=True,\n",
    ")\n",
    "\n",
    "print(result)"
   ]
  },
  {
   "cell_type": "code",
   "execution_count": 6,
   "id": "d97635b8-5954-46db-99d9-8609b01951a5",
   "metadata": {},
   "outputs": [
    {
     "name": "stdout",
     "output_type": "stream",
     "text": [
      "error=None status=<BackupStatus.SUCCESS: 'SUCCESS'> path='/var/lib/backups/openvidcontext-backup' backup_id='openvidcontext-backup'\n"
     ]
    }
   ],
   "source": [
    " \n",
    "result = client.backup.get_create_status(\n",
    "\n",
    "    backup_id=\"OpenVidContext-backup\",\n",
    "    backend=\"filesystem\",\n",
    ")\n",
    "\n",
    "print(result)"
   ]
  },
  {
   "cell_type": "code",
   "execution_count": 7,
   "id": "4920f9d3-82e8-4c54-bdf1-55296f375593",
   "metadata": {},
   "outputs": [
    {
     "name": "stdout",
     "output_type": "stream",
     "text": [
      "error=None status=<BackupStatus.SUCCESS: 'SUCCESS'> path='/var/lib/backups/openvidcontext-backup' backup_id='openvidcontext-backup' collections=['OpenVidContext']\n"
     ]
    }
   ],
   "source": [
    "\n",
    "result = client.backup.restore(\n",
    "    backup_id=\"OpenVidContext-backup\",\n",
    "    backend=\"filesystem\", \n",
    "    wait_for_completion=True,\n",
    ")\n",
    "\n",
    "print(result)"
   ]
  },
  {
   "cell_type": "code",
   "execution_count": 11,
   "id": "44206d81-472d-450b-bbe8-c86753af3406",
   "metadata": {},
   "outputs": [
    {
     "name": "stdout",
     "output_type": "stream",
     "text": [
      "True\n"
     ]
    }
   ],
   "source": [
    "result = client.backup.cancel(\n",
    "    backup_id=\"openvidlatecontext_jina_v2_zh-backup-2024_12_26\",\n",
    "    backend=\"filesystem\",\n",
    ")\n",
    "\n",
    "print(result)"
   ]
  },
  {
   "cell_type": "code",
   "execution_count": 12,
   "id": "74970b9b-b23f-404c-8da8-f442d8809ec4",
   "metadata": {
    "scrolled": true
   },
   "outputs": [
    {
     "name": "stdout",
     "output_type": "stream",
     "text": [
      "error=None status=<BackupStatus.SUCCESS: 'SUCCESS'> path='/var/lib/backups/openvidlatecontext_jina_v2_zh-backup-2024_12_26' backup_id='openvidlatecontext_jina_v2_zh-backup-2024_12_26' collections=['OpenVidLateContext_jina_v2_zh']\n"
     ]
    }
   ],
   "source": [
    "\n",
    "\n",
    "result = client.backup.create(\n",
    "    backup_id=\"OpenVidLateContext_jina_v2_zh-backup-2024_12_26\",\n",
    "    backend=\"filesystem\",\n",
    "    include_collections=[\"OpenVidLateContext_jina_v2_zh\"],\n",
    "    wait_for_completion=True,\n",
    ")\n",
    "\n",
    "print(result)"
   ]
  },
  {
   "cell_type": "code",
   "execution_count": 9,
   "id": "cd87199e-d1a7-4992-94c6-d34659c45d38",
   "metadata": {},
   "outputs": [
    {
     "name": "stdout",
     "output_type": "stream",
     "text": [
      "error=None status=<BackupStatus.SUCCESS: 'SUCCESS'> path='/var/lib/backups/openvidlatecontext_jina_v2_zh-backup-2024_12_26' backup_id='openvidlatecontext_jina_v2_zh-backup-2024_12_26'\n"
     ]
    }
   ],
   "source": [
    " \n",
    "result = client.backup.get_create_status(\n",
    "\n",
    "    backup_id=\"OpenVidLateContext_jina_v2_zh-backup-2024_12_26\",\n",
    "    backend=\"filesystem\",\n",
    ")\n",
    "\n",
    "print(result)"
   ]
  },
  {
   "cell_type": "code",
   "execution_count": null,
   "id": "c0e727ff-9969-411a-a135-4f84caad2632",
   "metadata": {},
   "outputs": [],
   "source": [
    "\n",
    "result = client.backup.restore(\n",
    "    backup_id=\"OpenVidLateContext_jina_v2_zh-backup-2024_12_26\",\n",
    "    backend=\"filesystem\", \n",
    "    wait_for_completion=True,\n",
    ")\n",
    "\n",
    "print(result)"
   ]
  }
 ],
 "metadata": {
  "kernelspec": {
   "display_name": "Python [conda env:weaviate_client] *",
   "language": "python",
   "name": "conda-env-weaviate_client-py"
  },
  "language_info": {
   "codemirror_mode": {
    "name": "ipython",
    "version": 3
   },
   "file_extension": ".py",
   "mimetype": "text/x-python",
   "name": "python",
   "nbconvert_exporter": "python",
   "pygments_lexer": "ipython3",
   "version": "3.10.16"
  }
 },
 "nbformat": 4,
 "nbformat_minor": 5
}
